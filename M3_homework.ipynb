{
 "cells": [
  {
   "cell_type": "markdown",
   "id": "f697cf12",
   "metadata": {},
   "source": [
    "# Logistic Regression Homework\n",
    "## Dataset\n",
    "In this homework, we will use the California Housing Prices data from <a href='https://www.kaggle.com/datasets/camnugent/california-housing-prices'>Kaggle</a>\n",
    "\n",
    "We'll keep working with the <code>'median_house_value'</code> variable, and we'll transform it to a classification task."
   ]
  },
  {
   "cell_type": "code",
   "execution_count": 82,
   "id": "0bb0e3a2",
   "metadata": {},
   "outputs": [],
   "source": [
    "import pandas as pd\n",
    "import numpy as np\n",
    "import matplotlib.pyplot as plt\n",
    "%matplotlib inline\n",
    "from sklearn.model_selection import train_test_split\n",
    "from sklearn.metrics import mutual_info_score\n",
    "from sklearn.feature_extraction import DictVectorizer\n",
    "from sklearn.linear_model import LogisticRegression\n",
    "from sklearn.linear_model import Ridge\n",
    "from sklearn.metrics import mean_squared_error"
   ]
  },
  {
   "cell_type": "markdown",
   "id": "f9562995",
   "metadata": {},
   "source": [
    "##  Features"
   ]
  },
  {
   "cell_type": "markdown",
   "id": "70bc06f8",
   "metadata": {},
   "source": [
    "For the rest of the homework, you'll need to use only these columns:\n",
    "\n",
    "* <code>'latitude'</code>,\n",
    "* <code>'longitude'</code>,\n",
    "* <code>'housing_median_age'</code>,\n",
    "* <code>'total_rooms'</code>,\n",
    "* <code>'total_bedrooms'</code>,\n",
    "* <code>'population'</code>,\n",
    "* <code>'households'</code>,\n",
    "* <code>'median_income'</code>,\n",
    "* <code>'median_house_value'</code>,\n",
    "* <code>'ocean_proximity'</code>"
   ]
  },
  {
   "cell_type": "markdown",
   "id": "d13151d5",
   "metadata": {},
   "source": [
    "## Data preparation"
   ]
  },
  {
   "cell_type": "code",
   "execution_count": 85,
   "id": "4b146efb",
   "metadata": {},
   "outputs": [
    {
     "data": {
      "text/html": [
       "<div>\n",
       "<style scoped>\n",
       "    .dataframe tbody tr th:only-of-type {\n",
       "        vertical-align: middle;\n",
       "    }\n",
       "\n",
       "    .dataframe tbody tr th {\n",
       "        vertical-align: top;\n",
       "    }\n",
       "\n",
       "    .dataframe thead th {\n",
       "        text-align: right;\n",
       "    }\n",
       "</style>\n",
       "<table border=\"1\" class=\"dataframe\">\n",
       "  <thead>\n",
       "    <tr style=\"text-align: right;\">\n",
       "      <th></th>\n",
       "      <th>0</th>\n",
       "      <th>1</th>\n",
       "      <th>2</th>\n",
       "      <th>3</th>\n",
       "      <th>4</th>\n",
       "    </tr>\n",
       "  </thead>\n",
       "  <tbody>\n",
       "    <tr>\n",
       "      <th>longitude</th>\n",
       "      <td>-122.23</td>\n",
       "      <td>-122.22</td>\n",
       "      <td>-122.24</td>\n",
       "      <td>-122.25</td>\n",
       "      <td>-122.25</td>\n",
       "    </tr>\n",
       "    <tr>\n",
       "      <th>latitude</th>\n",
       "      <td>37.88</td>\n",
       "      <td>37.86</td>\n",
       "      <td>37.85</td>\n",
       "      <td>37.85</td>\n",
       "      <td>37.85</td>\n",
       "    </tr>\n",
       "    <tr>\n",
       "      <th>housing_median_age</th>\n",
       "      <td>41.0</td>\n",
       "      <td>21.0</td>\n",
       "      <td>52.0</td>\n",
       "      <td>52.0</td>\n",
       "      <td>52.0</td>\n",
       "    </tr>\n",
       "    <tr>\n",
       "      <th>total_rooms</th>\n",
       "      <td>880.0</td>\n",
       "      <td>7099.0</td>\n",
       "      <td>1467.0</td>\n",
       "      <td>1274.0</td>\n",
       "      <td>1627.0</td>\n",
       "    </tr>\n",
       "    <tr>\n",
       "      <th>total_bedrooms</th>\n",
       "      <td>129.0</td>\n",
       "      <td>1106.0</td>\n",
       "      <td>190.0</td>\n",
       "      <td>235.0</td>\n",
       "      <td>280.0</td>\n",
       "    </tr>\n",
       "    <tr>\n",
       "      <th>population</th>\n",
       "      <td>322.0</td>\n",
       "      <td>2401.0</td>\n",
       "      <td>496.0</td>\n",
       "      <td>558.0</td>\n",
       "      <td>565.0</td>\n",
       "    </tr>\n",
       "    <tr>\n",
       "      <th>households</th>\n",
       "      <td>126.0</td>\n",
       "      <td>1138.0</td>\n",
       "      <td>177.0</td>\n",
       "      <td>219.0</td>\n",
       "      <td>259.0</td>\n",
       "    </tr>\n",
       "    <tr>\n",
       "      <th>median_income</th>\n",
       "      <td>8.3252</td>\n",
       "      <td>8.3014</td>\n",
       "      <td>7.2574</td>\n",
       "      <td>5.6431</td>\n",
       "      <td>3.8462</td>\n",
       "    </tr>\n",
       "    <tr>\n",
       "      <th>median_house_value</th>\n",
       "      <td>452600.0</td>\n",
       "      <td>358500.0</td>\n",
       "      <td>352100.0</td>\n",
       "      <td>341300.0</td>\n",
       "      <td>342200.0</td>\n",
       "    </tr>\n",
       "    <tr>\n",
       "      <th>ocean_proximity</th>\n",
       "      <td>NEAR BAY</td>\n",
       "      <td>NEAR BAY</td>\n",
       "      <td>NEAR BAY</td>\n",
       "      <td>NEAR BAY</td>\n",
       "      <td>NEAR BAY</td>\n",
       "    </tr>\n",
       "  </tbody>\n",
       "</table>\n",
       "</div>"
      ],
      "text/plain": [
       "                           0         1         2         3         4\n",
       "longitude            -122.23   -122.22   -122.24   -122.25   -122.25\n",
       "latitude               37.88     37.86     37.85     37.85     37.85\n",
       "housing_median_age      41.0      21.0      52.0      52.0      52.0\n",
       "total_rooms            880.0    7099.0    1467.0    1274.0    1627.0\n",
       "total_bedrooms         129.0    1106.0     190.0     235.0     280.0\n",
       "population             322.0    2401.0     496.0     558.0     565.0\n",
       "households             126.0    1138.0     177.0     219.0     259.0\n",
       "median_income         8.3252    8.3014    7.2574    5.6431    3.8462\n",
       "median_house_value  452600.0  358500.0  352100.0  341300.0  342200.0\n",
       "ocean_proximity     NEAR BAY  NEAR BAY  NEAR BAY  NEAR BAY  NEAR BAY"
      ]
     },
     "execution_count": 85,
     "metadata": {},
     "output_type": "execute_result"
    }
   ],
   "source": [
    "df = pd.read_csv('housing.csv')\n",
    "df.head().T"
   ]
  },
  {
   "cell_type": "markdown",
   "id": "aebeb90f",
   "metadata": {},
   "source": [
    "* Select only the features from above and fill in the missing values with 0."
   ]
  },
  {
   "cell_type": "code",
   "execution_count": 3,
   "id": "8a87cbc7",
   "metadata": {},
   "outputs": [
    {
     "data": {
      "text/plain": [
       "longitude               0\n",
       "latitude                0\n",
       "housing_median_age      0\n",
       "total_rooms             0\n",
       "total_bedrooms        207\n",
       "population              0\n",
       "households              0\n",
       "median_income           0\n",
       "median_house_value      0\n",
       "ocean_proximity         0\n",
       "dtype: int64"
      ]
     },
     "execution_count": 3,
     "metadata": {},
     "output_type": "execute_result"
    }
   ],
   "source": [
    "df.isnull().sum()"
   ]
  },
  {
   "cell_type": "code",
   "execution_count": 56,
   "id": "48c068d5",
   "metadata": {},
   "outputs": [],
   "source": [
    "df = df.fillna(0)"
   ]
  },
  {
   "cell_type": "code",
   "execution_count": 5,
   "id": "adfb0a9e",
   "metadata": {},
   "outputs": [
    {
     "data": {
      "text/plain": [
       "longitude             0\n",
       "latitude              0\n",
       "housing_median_age    0\n",
       "total_rooms           0\n",
       "total_bedrooms        0\n",
       "population            0\n",
       "households            0\n",
       "median_income         0\n",
       "median_house_value    0\n",
       "ocean_proximity       0\n",
       "dtype: int64"
      ]
     },
     "execution_count": 5,
     "metadata": {},
     "output_type": "execute_result"
    }
   ],
   "source": [
    "df.isnull().sum()"
   ]
  },
  {
   "cell_type": "markdown",
   "id": "b19cba64",
   "metadata": {},
   "source": [
    "* Create a new column <code>rooms_per_household</code> by dividing the column <code>total_rooms</code> by the column <code>households</code> from dataframe."
   ]
  },
  {
   "cell_type": "code",
   "execution_count": 86,
   "id": "a342d68c",
   "metadata": {},
   "outputs": [],
   "source": [
    "df['rooms_per_household'] = df.total_rooms / df.households"
   ]
  },
  {
   "cell_type": "markdown",
   "id": "6456ad6b",
   "metadata": {},
   "source": [
    "* Create a new column <code>bedrooms_per_room</code> by dividing the column <code>total_bedrooms</code> by the column <code>total_rooms</code> from dataframe."
   ]
  },
  {
   "cell_type": "code",
   "execution_count": 87,
   "id": "a21feb5d",
   "metadata": {},
   "outputs": [],
   "source": [
    "df['bedrooms_per_room'] = df.total_bedrooms / df.total_rooms"
   ]
  },
  {
   "cell_type": "markdown",
   "id": "1f312587",
   "metadata": {},
   "source": [
    "Create a new column <code>population_per_household</code> by dividing the column <code>population</code> by the column <code>households</code> from dataframe."
   ]
  },
  {
   "cell_type": "code",
   "execution_count": 88,
   "id": "0fd14c27",
   "metadata": {},
   "outputs": [],
   "source": [
    "df['population_per_household'] = df.population / df.households"
   ]
  },
  {
   "cell_type": "code",
   "execution_count": 9,
   "id": "8cf1d48e",
   "metadata": {},
   "outputs": [
    {
     "data": {
      "text/html": [
       "<div>\n",
       "<style scoped>\n",
       "    .dataframe tbody tr th:only-of-type {\n",
       "        vertical-align: middle;\n",
       "    }\n",
       "\n",
       "    .dataframe tbody tr th {\n",
       "        vertical-align: top;\n",
       "    }\n",
       "\n",
       "    .dataframe thead th {\n",
       "        text-align: right;\n",
       "    }\n",
       "</style>\n",
       "<table border=\"1\" class=\"dataframe\">\n",
       "  <thead>\n",
       "    <tr style=\"text-align: right;\">\n",
       "      <th></th>\n",
       "      <th>longitude</th>\n",
       "      <th>latitude</th>\n",
       "      <th>housing_median_age</th>\n",
       "      <th>total_rooms</th>\n",
       "      <th>total_bedrooms</th>\n",
       "      <th>population</th>\n",
       "      <th>households</th>\n",
       "      <th>median_income</th>\n",
       "      <th>median_house_value</th>\n",
       "      <th>ocean_proximity</th>\n",
       "      <th>rooms_per_household</th>\n",
       "      <th>bedrooms_per_room</th>\n",
       "      <th>population_per_household</th>\n",
       "    </tr>\n",
       "  </thead>\n",
       "  <tbody>\n",
       "    <tr>\n",
       "      <th>0</th>\n",
       "      <td>-122.23</td>\n",
       "      <td>37.88</td>\n",
       "      <td>41.0</td>\n",
       "      <td>880.0</td>\n",
       "      <td>129.0</td>\n",
       "      <td>322.0</td>\n",
       "      <td>126.0</td>\n",
       "      <td>8.3252</td>\n",
       "      <td>452600.0</td>\n",
       "      <td>NEAR BAY</td>\n",
       "      <td>6.984127</td>\n",
       "      <td>0.146591</td>\n",
       "      <td>2.555556</td>\n",
       "    </tr>\n",
       "    <tr>\n",
       "      <th>1</th>\n",
       "      <td>-122.22</td>\n",
       "      <td>37.86</td>\n",
       "      <td>21.0</td>\n",
       "      <td>7099.0</td>\n",
       "      <td>1106.0</td>\n",
       "      <td>2401.0</td>\n",
       "      <td>1138.0</td>\n",
       "      <td>8.3014</td>\n",
       "      <td>358500.0</td>\n",
       "      <td>NEAR BAY</td>\n",
       "      <td>6.238137</td>\n",
       "      <td>0.155797</td>\n",
       "      <td>2.109842</td>\n",
       "    </tr>\n",
       "    <tr>\n",
       "      <th>2</th>\n",
       "      <td>-122.24</td>\n",
       "      <td>37.85</td>\n",
       "      <td>52.0</td>\n",
       "      <td>1467.0</td>\n",
       "      <td>190.0</td>\n",
       "      <td>496.0</td>\n",
       "      <td>177.0</td>\n",
       "      <td>7.2574</td>\n",
       "      <td>352100.0</td>\n",
       "      <td>NEAR BAY</td>\n",
       "      <td>8.288136</td>\n",
       "      <td>0.129516</td>\n",
       "      <td>2.802260</td>\n",
       "    </tr>\n",
       "    <tr>\n",
       "      <th>3</th>\n",
       "      <td>-122.25</td>\n",
       "      <td>37.85</td>\n",
       "      <td>52.0</td>\n",
       "      <td>1274.0</td>\n",
       "      <td>235.0</td>\n",
       "      <td>558.0</td>\n",
       "      <td>219.0</td>\n",
       "      <td>5.6431</td>\n",
       "      <td>341300.0</td>\n",
       "      <td>NEAR BAY</td>\n",
       "      <td>5.817352</td>\n",
       "      <td>0.184458</td>\n",
       "      <td>2.547945</td>\n",
       "    </tr>\n",
       "    <tr>\n",
       "      <th>4</th>\n",
       "      <td>-122.25</td>\n",
       "      <td>37.85</td>\n",
       "      <td>52.0</td>\n",
       "      <td>1627.0</td>\n",
       "      <td>280.0</td>\n",
       "      <td>565.0</td>\n",
       "      <td>259.0</td>\n",
       "      <td>3.8462</td>\n",
       "      <td>342200.0</td>\n",
       "      <td>NEAR BAY</td>\n",
       "      <td>6.281853</td>\n",
       "      <td>0.172096</td>\n",
       "      <td>2.181467</td>\n",
       "    </tr>\n",
       "  </tbody>\n",
       "</table>\n",
       "</div>"
      ],
      "text/plain": [
       "   longitude  latitude  housing_median_age  total_rooms  total_bedrooms  \\\n",
       "0    -122.23     37.88                41.0        880.0           129.0   \n",
       "1    -122.22     37.86                21.0       7099.0          1106.0   \n",
       "2    -122.24     37.85                52.0       1467.0           190.0   \n",
       "3    -122.25     37.85                52.0       1274.0           235.0   \n",
       "4    -122.25     37.85                52.0       1627.0           280.0   \n",
       "\n",
       "   population  households  median_income  median_house_value ocean_proximity  \\\n",
       "0       322.0       126.0         8.3252            452600.0        NEAR BAY   \n",
       "1      2401.0      1138.0         8.3014            358500.0        NEAR BAY   \n",
       "2       496.0       177.0         7.2574            352100.0        NEAR BAY   \n",
       "3       558.0       219.0         5.6431            341300.0        NEAR BAY   \n",
       "4       565.0       259.0         3.8462            342200.0        NEAR BAY   \n",
       "\n",
       "   rooms_per_household  bedrooms_per_room  population_per_household  \n",
       "0             6.984127           0.146591                  2.555556  \n",
       "1             6.238137           0.155797                  2.109842  \n",
       "2             8.288136           0.129516                  2.802260  \n",
       "3             5.817352           0.184458                  2.547945  \n",
       "4             6.281853           0.172096                  2.181467  "
      ]
     },
     "execution_count": 9,
     "metadata": {},
     "output_type": "execute_result"
    }
   ],
   "source": [
    "df.head()"
   ]
  },
  {
   "cell_type": "code",
   "execution_count": 10,
   "id": "1ca45201",
   "metadata": {},
   "outputs": [
    {
     "data": {
      "text/plain": [
       "Index(['longitude', 'latitude', 'housing_median_age', 'total_rooms',\n",
       "       'total_bedrooms', 'population', 'households', 'median_income',\n",
       "       'median_house_value', 'ocean_proximity', 'rooms_per_household',\n",
       "       'bedrooms_per_room', 'population_per_household'],\n",
       "      dtype='object')"
      ]
     },
     "execution_count": 10,
     "metadata": {},
     "output_type": "execute_result"
    }
   ],
   "source": [
    "df.columns"
   ]
  },
  {
   "cell_type": "code",
   "execution_count": 89,
   "id": "04d42214",
   "metadata": {},
   "outputs": [],
   "source": [
    "numerical = ['longitude', 'latitude', 'housing_median_age', 'total_rooms',\n",
    "       'total_bedrooms', 'population', 'households', 'median_income',\n",
    "       'rooms_per_household', 'bedrooms_per_room', 'population_per_household']"
   ]
  },
  {
   "cell_type": "code",
   "execution_count": 90,
   "id": "3571a559",
   "metadata": {},
   "outputs": [],
   "source": [
    "categorical = ['ocean_proximity']"
   ]
  },
  {
   "cell_type": "markdown",
   "id": "c4d98033",
   "metadata": {},
   "source": [
    "## Question 1\n",
    "What is the most frequent observation (mode) for the column <code>ocean_proximity</code>?\n",
    "\n",
    "Options:\n",
    "\n",
    "* <code>NEAR BAY</code>\n",
    "* <code><b><1H OCEAN</b></code>\n",
    "* <code>INLAND</code>\n",
    "* <code>NEAR OCEAN</code>"
   ]
  },
  {
   "cell_type": "code",
   "execution_count": 13,
   "id": "15309134",
   "metadata": {},
   "outputs": [
    {
     "data": {
      "text/plain": [
       "0    <1H OCEAN\n",
       "dtype: object"
      ]
     },
     "execution_count": 13,
     "metadata": {},
     "output_type": "execute_result"
    }
   ],
   "source": [
    "df.ocean_proximity.mode()"
   ]
  },
  {
   "cell_type": "code",
   "execution_count": 14,
   "id": "f132be72",
   "metadata": {},
   "outputs": [
    {
     "data": {
      "text/plain": [
       "<1H OCEAN     9136\n",
       "INLAND        6551\n",
       "NEAR OCEAN    2658\n",
       "NEAR BAY      2290\n",
       "ISLAND           5\n",
       "Name: ocean_proximity, dtype: int64"
      ]
     },
     "execution_count": 14,
     "metadata": {},
     "output_type": "execute_result"
    }
   ],
   "source": [
    "df.ocean_proximity.value_counts()"
   ]
  },
  {
   "cell_type": "markdown",
   "id": "9eeb7379",
   "metadata": {},
   "source": [
    "## Question 2\n",
    "* Create the <a href='https://www.google.com/search?q=correlation+matrix'>correlation matrix</a> for the numerical features of your train dataset.\n",
    "    * In a correlation matrix, you compute the correlation coefficient between every pair of features in the dataset.\n",
    "* What are the two features that have the biggest correlation in this dataset?\n",
    "\n",
    "Options:\n",
    "\n",
    "* <b><code>total_bedrooms</code> and <code>households</code></b>\n",
    "* <code>total_bedrooms</code> and <code>total_rooms</code>\n",
    "* <code>population</code> and <code>households</code>\n",
    "* <code>population_per_household</code> and <code>total_rooms</code>"
   ]
  },
  {
   "cell_type": "code",
   "execution_count": 15,
   "id": "09fee673",
   "metadata": {},
   "outputs": [
    {
     "data": {
      "text/html": [
       "<div>\n",
       "<style scoped>\n",
       "    .dataframe tbody tr th:only-of-type {\n",
       "        vertical-align: middle;\n",
       "    }\n",
       "\n",
       "    .dataframe tbody tr th {\n",
       "        vertical-align: top;\n",
       "    }\n",
       "\n",
       "    .dataframe thead th {\n",
       "        text-align: right;\n",
       "    }\n",
       "</style>\n",
       "<table border=\"1\" class=\"dataframe\">\n",
       "  <thead>\n",
       "    <tr style=\"text-align: right;\">\n",
       "      <th></th>\n",
       "      <th>longitude</th>\n",
       "      <th>latitude</th>\n",
       "      <th>housing_median_age</th>\n",
       "      <th>total_rooms</th>\n",
       "      <th>total_bedrooms</th>\n",
       "      <th>population</th>\n",
       "      <th>households</th>\n",
       "      <th>median_income</th>\n",
       "      <th>median_house_value</th>\n",
       "      <th>rooms_per_household</th>\n",
       "      <th>bedrooms_per_room</th>\n",
       "      <th>population_per_household</th>\n",
       "    </tr>\n",
       "  </thead>\n",
       "  <tbody>\n",
       "    <tr>\n",
       "      <th>longitude</th>\n",
       "      <td>1.000000</td>\n",
       "      <td>-0.924664</td>\n",
       "      <td>-0.108197</td>\n",
       "      <td>0.044568</td>\n",
       "      <td>0.068082</td>\n",
       "      <td>0.099773</td>\n",
       "      <td>0.055310</td>\n",
       "      <td>-0.015176</td>\n",
       "      <td>-0.045967</td>\n",
       "      <td>-0.027540</td>\n",
       "      <td>0.084836</td>\n",
       "      <td>0.002476</td>\n",
       "    </tr>\n",
       "    <tr>\n",
       "      <th>latitude</th>\n",
       "      <td>-0.924664</td>\n",
       "      <td>1.000000</td>\n",
       "      <td>0.011173</td>\n",
       "      <td>-0.036100</td>\n",
       "      <td>-0.065318</td>\n",
       "      <td>-0.108785</td>\n",
       "      <td>-0.071035</td>\n",
       "      <td>-0.079809</td>\n",
       "      <td>-0.144160</td>\n",
       "      <td>0.106389</td>\n",
       "      <td>-0.104112</td>\n",
       "      <td>0.002366</td>\n",
       "    </tr>\n",
       "    <tr>\n",
       "      <th>housing_median_age</th>\n",
       "      <td>-0.108197</td>\n",
       "      <td>0.011173</td>\n",
       "      <td>1.000000</td>\n",
       "      <td>-0.361262</td>\n",
       "      <td>-0.317063</td>\n",
       "      <td>-0.296244</td>\n",
       "      <td>-0.302916</td>\n",
       "      <td>-0.119034</td>\n",
       "      <td>0.105623</td>\n",
       "      <td>-0.153277</td>\n",
       "      <td>0.125396</td>\n",
       "      <td>0.013191</td>\n",
       "    </tr>\n",
       "    <tr>\n",
       "      <th>total_rooms</th>\n",
       "      <td>0.044568</td>\n",
       "      <td>-0.036100</td>\n",
       "      <td>-0.361262</td>\n",
       "      <td>1.000000</td>\n",
       "      <td>0.920196</td>\n",
       "      <td>0.857126</td>\n",
       "      <td>0.918484</td>\n",
       "      <td>0.198050</td>\n",
       "      <td>0.134153</td>\n",
       "      <td>0.133798</td>\n",
       "      <td>-0.174583</td>\n",
       "      <td>-0.024581</td>\n",
       "    </tr>\n",
       "    <tr>\n",
       "      <th>total_bedrooms</th>\n",
       "      <td>0.068082</td>\n",
       "      <td>-0.065318</td>\n",
       "      <td>-0.317063</td>\n",
       "      <td>0.920196</td>\n",
       "      <td>1.000000</td>\n",
       "      <td>0.866266</td>\n",
       "      <td>0.966507</td>\n",
       "      <td>-0.007295</td>\n",
       "      <td>0.049148</td>\n",
       "      <td>0.002717</td>\n",
       "      <td>0.122205</td>\n",
       "      <td>-0.028019</td>\n",
       "    </tr>\n",
       "    <tr>\n",
       "      <th>population</th>\n",
       "      <td>0.099773</td>\n",
       "      <td>-0.108785</td>\n",
       "      <td>-0.296244</td>\n",
       "      <td>0.857126</td>\n",
       "      <td>0.866266</td>\n",
       "      <td>1.000000</td>\n",
       "      <td>0.907222</td>\n",
       "      <td>0.004834</td>\n",
       "      <td>-0.024650</td>\n",
       "      <td>-0.072213</td>\n",
       "      <td>0.031397</td>\n",
       "      <td>0.069863</td>\n",
       "    </tr>\n",
       "    <tr>\n",
       "      <th>households</th>\n",
       "      <td>0.055310</td>\n",
       "      <td>-0.071035</td>\n",
       "      <td>-0.302916</td>\n",
       "      <td>0.918484</td>\n",
       "      <td>0.966507</td>\n",
       "      <td>0.907222</td>\n",
       "      <td>1.000000</td>\n",
       "      <td>0.013033</td>\n",
       "      <td>0.065843</td>\n",
       "      <td>-0.080598</td>\n",
       "      <td>0.059818</td>\n",
       "      <td>-0.027309</td>\n",
       "    </tr>\n",
       "    <tr>\n",
       "      <th>median_income</th>\n",
       "      <td>-0.015176</td>\n",
       "      <td>-0.079809</td>\n",
       "      <td>-0.119034</td>\n",
       "      <td>0.198050</td>\n",
       "      <td>-0.007295</td>\n",
       "      <td>0.004834</td>\n",
       "      <td>0.013033</td>\n",
       "      <td>1.000000</td>\n",
       "      <td>0.688075</td>\n",
       "      <td>0.326895</td>\n",
       "      <td>-0.573836</td>\n",
       "      <td>0.018766</td>\n",
       "    </tr>\n",
       "    <tr>\n",
       "      <th>median_house_value</th>\n",
       "      <td>-0.045967</td>\n",
       "      <td>-0.144160</td>\n",
       "      <td>0.105623</td>\n",
       "      <td>0.134153</td>\n",
       "      <td>0.049148</td>\n",
       "      <td>-0.024650</td>\n",
       "      <td>0.065843</td>\n",
       "      <td>0.688075</td>\n",
       "      <td>1.000000</td>\n",
       "      <td>0.151948</td>\n",
       "      <td>-0.238759</td>\n",
       "      <td>-0.023737</td>\n",
       "    </tr>\n",
       "    <tr>\n",
       "      <th>rooms_per_household</th>\n",
       "      <td>-0.027540</td>\n",
       "      <td>0.106389</td>\n",
       "      <td>-0.153277</td>\n",
       "      <td>0.133798</td>\n",
       "      <td>0.002717</td>\n",
       "      <td>-0.072213</td>\n",
       "      <td>-0.080598</td>\n",
       "      <td>0.326895</td>\n",
       "      <td>0.151948</td>\n",
       "      <td>1.000000</td>\n",
       "      <td>-0.387465</td>\n",
       "      <td>-0.004852</td>\n",
       "    </tr>\n",
       "    <tr>\n",
       "      <th>bedrooms_per_room</th>\n",
       "      <td>0.084836</td>\n",
       "      <td>-0.104112</td>\n",
       "      <td>0.125396</td>\n",
       "      <td>-0.174583</td>\n",
       "      <td>0.122205</td>\n",
       "      <td>0.031397</td>\n",
       "      <td>0.059818</td>\n",
       "      <td>-0.573836</td>\n",
       "      <td>-0.238759</td>\n",
       "      <td>-0.387465</td>\n",
       "      <td>1.000000</td>\n",
       "      <td>0.003047</td>\n",
       "    </tr>\n",
       "    <tr>\n",
       "      <th>population_per_household</th>\n",
       "      <td>0.002476</td>\n",
       "      <td>0.002366</td>\n",
       "      <td>0.013191</td>\n",
       "      <td>-0.024581</td>\n",
       "      <td>-0.028019</td>\n",
       "      <td>0.069863</td>\n",
       "      <td>-0.027309</td>\n",
       "      <td>0.018766</td>\n",
       "      <td>-0.023737</td>\n",
       "      <td>-0.004852</td>\n",
       "      <td>0.003047</td>\n",
       "      <td>1.000000</td>\n",
       "    </tr>\n",
       "  </tbody>\n",
       "</table>\n",
       "</div>"
      ],
      "text/plain": [
       "                          longitude  latitude  housing_median_age  \\\n",
       "longitude                  1.000000 -0.924664           -0.108197   \n",
       "latitude                  -0.924664  1.000000            0.011173   \n",
       "housing_median_age        -0.108197  0.011173            1.000000   \n",
       "total_rooms                0.044568 -0.036100           -0.361262   \n",
       "total_bedrooms             0.068082 -0.065318           -0.317063   \n",
       "population                 0.099773 -0.108785           -0.296244   \n",
       "households                 0.055310 -0.071035           -0.302916   \n",
       "median_income             -0.015176 -0.079809           -0.119034   \n",
       "median_house_value        -0.045967 -0.144160            0.105623   \n",
       "rooms_per_household       -0.027540  0.106389           -0.153277   \n",
       "bedrooms_per_room          0.084836 -0.104112            0.125396   \n",
       "population_per_household   0.002476  0.002366            0.013191   \n",
       "\n",
       "                          total_rooms  total_bedrooms  population  households  \\\n",
       "longitude                    0.044568        0.068082    0.099773    0.055310   \n",
       "latitude                    -0.036100       -0.065318   -0.108785   -0.071035   \n",
       "housing_median_age          -0.361262       -0.317063   -0.296244   -0.302916   \n",
       "total_rooms                  1.000000        0.920196    0.857126    0.918484   \n",
       "total_bedrooms               0.920196        1.000000    0.866266    0.966507   \n",
       "population                   0.857126        0.866266    1.000000    0.907222   \n",
       "households                   0.918484        0.966507    0.907222    1.000000   \n",
       "median_income                0.198050       -0.007295    0.004834    0.013033   \n",
       "median_house_value           0.134153        0.049148   -0.024650    0.065843   \n",
       "rooms_per_household          0.133798        0.002717   -0.072213   -0.080598   \n",
       "bedrooms_per_room           -0.174583        0.122205    0.031397    0.059818   \n",
       "population_per_household    -0.024581       -0.028019    0.069863   -0.027309   \n",
       "\n",
       "                          median_income  median_house_value  \\\n",
       "longitude                     -0.015176           -0.045967   \n",
       "latitude                      -0.079809           -0.144160   \n",
       "housing_median_age            -0.119034            0.105623   \n",
       "total_rooms                    0.198050            0.134153   \n",
       "total_bedrooms                -0.007295            0.049148   \n",
       "population                     0.004834           -0.024650   \n",
       "households                     0.013033            0.065843   \n",
       "median_income                  1.000000            0.688075   \n",
       "median_house_value             0.688075            1.000000   \n",
       "rooms_per_household            0.326895            0.151948   \n",
       "bedrooms_per_room             -0.573836           -0.238759   \n",
       "population_per_household       0.018766           -0.023737   \n",
       "\n",
       "                          rooms_per_household  bedrooms_per_room  \\\n",
       "longitude                           -0.027540           0.084836   \n",
       "latitude                             0.106389          -0.104112   \n",
       "housing_median_age                  -0.153277           0.125396   \n",
       "total_rooms                          0.133798          -0.174583   \n",
       "total_bedrooms                       0.002717           0.122205   \n",
       "population                          -0.072213           0.031397   \n",
       "households                          -0.080598           0.059818   \n",
       "median_income                        0.326895          -0.573836   \n",
       "median_house_value                   0.151948          -0.238759   \n",
       "rooms_per_household                  1.000000          -0.387465   \n",
       "bedrooms_per_room                   -0.387465           1.000000   \n",
       "population_per_household            -0.004852           0.003047   \n",
       "\n",
       "                          population_per_household  \n",
       "longitude                                 0.002476  \n",
       "latitude                                  0.002366  \n",
       "housing_median_age                        0.013191  \n",
       "total_rooms                              -0.024581  \n",
       "total_bedrooms                           -0.028019  \n",
       "population                                0.069863  \n",
       "households                               -0.027309  \n",
       "median_income                             0.018766  \n",
       "median_house_value                       -0.023737  \n",
       "rooms_per_household                      -0.004852  \n",
       "bedrooms_per_room                         0.003047  \n",
       "population_per_household                  1.000000  "
      ]
     },
     "execution_count": 15,
     "metadata": {},
     "output_type": "execute_result"
    }
   ],
   "source": [
    "df.corr()"
   ]
  },
  {
   "cell_type": "code",
   "execution_count": 16,
   "id": "79b163a0",
   "metadata": {},
   "outputs": [
    {
     "data": {
      "text/html": [
       "<style type=\"text/css\">\n",
       "#T_54f1b_row0_col0, #T_54f1b_row1_col1, #T_54f1b_row2_col2, #T_54f1b_row3_col3, #T_54f1b_row4_col4, #T_54f1b_row5_col5, #T_54f1b_row6_col6, #T_54f1b_row7_col7, #T_54f1b_row8_col8, #T_54f1b_row9_col9, #T_54f1b_row10_col10, #T_54f1b_row11_col11 {\n",
       "  background-color: #b40426;\n",
       "  color: #f1f1f1;\n",
       "}\n",
       "#T_54f1b_row0_col1, #T_54f1b_row1_col0 {\n",
       "  background-color: #3b4cc0;\n",
       "  color: #f1f1f1;\n",
       "}\n",
       "#T_54f1b_row0_col2, #T_54f1b_row1_col5, #T_54f1b_row2_col0, #T_54f1b_row5_col1 {\n",
       "  background-color: #c7d7f0;\n",
       "  color: #000000;\n",
       "}\n",
       "#T_54f1b_row0_col3, #T_54f1b_row3_col0 {\n",
       "  background-color: #dddcdc;\n",
       "  color: #000000;\n",
       "}\n",
       "#T_54f1b_row0_col4, #T_54f1b_row4_col0, #T_54f1b_row5_col11, #T_54f1b_row11_col5 {\n",
       "  background-color: #e1dad6;\n",
       "  color: #000000;\n",
       "}\n",
       "#T_54f1b_row0_col5, #T_54f1b_row5_col0 {\n",
       "  background-color: #e5d8d1;\n",
       "  color: #000000;\n",
       "}\n",
       "#T_54f1b_row0_col6, #T_54f1b_row6_col0, #T_54f1b_row6_col10, #T_54f1b_row10_col6 {\n",
       "  background-color: #dfdbd9;\n",
       "  color: #000000;\n",
       "}\n",
       "#T_54f1b_row0_col7, #T_54f1b_row7_col0 {\n",
       "  background-color: #d5dbe5;\n",
       "  color: #000000;\n",
       "}\n",
       "#T_54f1b_row0_col8, #T_54f1b_row8_col0 {\n",
       "  background-color: #d1dae9;\n",
       "  color: #000000;\n",
       "}\n",
       "#T_54f1b_row0_col9, #T_54f1b_row3_col11, #T_54f1b_row4_col11, #T_54f1b_row5_col8, #T_54f1b_row6_col11, #T_54f1b_row8_col5, #T_54f1b_row8_col11, #T_54f1b_row9_col0, #T_54f1b_row11_col3, #T_54f1b_row11_col4, #T_54f1b_row11_col6, #T_54f1b_row11_col8 {\n",
       "  background-color: #d4dbe6;\n",
       "  color: #000000;\n",
       "}\n",
       "#T_54f1b_row0_col10, #T_54f1b_row10_col0 {\n",
       "  background-color: #e3d9d3;\n",
       "  color: #000000;\n",
       "}\n",
       "#T_54f1b_row0_col11, #T_54f1b_row1_col11, #T_54f1b_row4_col9, #T_54f1b_row5_col7, #T_54f1b_row7_col5, #T_54f1b_row9_col4, #T_54f1b_row10_col11, #T_54f1b_row11_col0, #T_54f1b_row11_col1, #T_54f1b_row11_col10 {\n",
       "  background-color: #d8dce2;\n",
       "  color: #000000;\n",
       "}\n",
       "#T_54f1b_row1_col2, #T_54f1b_row2_col1, #T_54f1b_row2_col11, #T_54f1b_row6_col7, #T_54f1b_row7_col6, #T_54f1b_row11_col2 {\n",
       "  background-color: #d9dce1;\n",
       "  color: #000000;\n",
       "}\n",
       "#T_54f1b_row1_col3, #T_54f1b_row3_col1 {\n",
       "  background-color: #d3dbe7;\n",
       "  color: #000000;\n",
       "}\n",
       "#T_54f1b_row1_col4, #T_54f1b_row4_col1 {\n",
       "  background-color: #cedaeb;\n",
       "  color: #000000;\n",
       "}\n",
       "#T_54f1b_row1_col6, #T_54f1b_row5_col9, #T_54f1b_row6_col1, #T_54f1b_row9_col5 {\n",
       "  background-color: #cdd9ec;\n",
       "  color: #000000;\n",
       "}\n",
       "#T_54f1b_row1_col7, #T_54f1b_row6_col9, #T_54f1b_row7_col1, #T_54f1b_row9_col6 {\n",
       "  background-color: #ccd9ed;\n",
       "  color: #000000;\n",
       "}\n",
       "#T_54f1b_row1_col8, #T_54f1b_row8_col1 {\n",
       "  background-color: #c1d4f4;\n",
       "  color: #000000;\n",
       "}\n",
       "#T_54f1b_row1_col9, #T_54f1b_row2_col8, #T_54f1b_row8_col2, #T_54f1b_row9_col1 {\n",
       "  background-color: #e6d7cf;\n",
       "  color: #000000;\n",
       "}\n",
       "#T_54f1b_row1_col10, #T_54f1b_row10_col1 {\n",
       "  background-color: #c9d7f0;\n",
       "  color: #000000;\n",
       "}\n",
       "#T_54f1b_row2_col3, #T_54f1b_row3_col2 {\n",
       "  background-color: #9bbcff;\n",
       "  color: #000000;\n",
       "}\n",
       "#T_54f1b_row2_col4, #T_54f1b_row4_col2 {\n",
       "  background-color: #a3c2fe;\n",
       "  color: #000000;\n",
       "}\n",
       "#T_54f1b_row2_col5, #T_54f1b_row5_col2 {\n",
       "  background-color: #a7c5fe;\n",
       "  color: #000000;\n",
       "}\n",
       "#T_54f1b_row2_col6, #T_54f1b_row6_col2 {\n",
       "  background-color: #a6c4fe;\n",
       "  color: #000000;\n",
       "}\n",
       "#T_54f1b_row2_col7, #T_54f1b_row7_col2 {\n",
       "  background-color: #c6d6f1;\n",
       "  color: #000000;\n",
       "}\n",
       "#T_54f1b_row2_col9, #T_54f1b_row9_col2 {\n",
       "  background-color: #c0d4f5;\n",
       "  color: #000000;\n",
       "}\n",
       "#T_54f1b_row2_col10, #T_54f1b_row4_col10, #T_54f1b_row10_col2, #T_54f1b_row10_col4 {\n",
       "  background-color: #e8d6cc;\n",
       "  color: #000000;\n",
       "}\n",
       "#T_54f1b_row3_col4, #T_54f1b_row3_col6, #T_54f1b_row4_col3, #T_54f1b_row6_col3 {\n",
       "  background-color: #c32e31;\n",
       "  color: #f1f1f1;\n",
       "}\n",
       "#T_54f1b_row3_col5, #T_54f1b_row5_col3 {\n",
       "  background-color: #cf453c;\n",
       "  color: #f1f1f1;\n",
       "}\n",
       "#T_54f1b_row3_col7, #T_54f1b_row7_col3 {\n",
       "  background-color: #efcebd;\n",
       "  color: #000000;\n",
       "}\n",
       "#T_54f1b_row3_col8, #T_54f1b_row3_col9, #T_54f1b_row8_col3, #T_54f1b_row9_col3 {\n",
       "  background-color: #e9d5cb;\n",
       "  color: #000000;\n",
       "}\n",
       "#T_54f1b_row3_col10, #T_54f1b_row10_col3 {\n",
       "  background-color: #bcd2f7;\n",
       "  color: #000000;\n",
       "}\n",
       "#T_54f1b_row4_col5, #T_54f1b_row5_col4 {\n",
       "  background-color: #cc403a;\n",
       "  color: #f1f1f1;\n",
       "}\n",
       "#T_54f1b_row4_col6, #T_54f1b_row6_col4 {\n",
       "  background-color: #ba162b;\n",
       "  color: #f1f1f1;\n",
       "}\n",
       "#T_54f1b_row4_col7, #T_54f1b_row7_col4, #T_54f1b_row9_col11, #T_54f1b_row11_col9 {\n",
       "  background-color: #d7dce3;\n",
       "  color: #000000;\n",
       "}\n",
       "#T_54f1b_row4_col8, #T_54f1b_row8_col4 {\n",
       "  background-color: #dedcdb;\n",
       "  color: #000000;\n",
       "}\n",
       "#T_54f1b_row5_col6, #T_54f1b_row6_col5 {\n",
       "  background-color: #c53334;\n",
       "  color: #f1f1f1;\n",
       "}\n",
       "#T_54f1b_row5_col10, #T_54f1b_row10_col5 {\n",
       "  background-color: #dcdddd;\n",
       "  color: #000000;\n",
       "}\n",
       "#T_54f1b_row6_col8, #T_54f1b_row8_col6 {\n",
       "  background-color: #e0dbd8;\n",
       "  color: #000000;\n",
       "}\n",
       "#T_54f1b_row7_col8, #T_54f1b_row8_col7 {\n",
       "  background-color: #e67259;\n",
       "  color: #f1f1f1;\n",
       "}\n",
       "#T_54f1b_row7_col9, #T_54f1b_row9_col7 {\n",
       "  background-color: #f6bda2;\n",
       "  color: #000000;\n",
       "}\n",
       "#T_54f1b_row7_col10, #T_54f1b_row10_col7 {\n",
       "  background-color: #7597f6;\n",
       "  color: #f1f1f1;\n",
       "}\n",
       "#T_54f1b_row7_col11, #T_54f1b_row11_col7 {\n",
       "  background-color: #dadce0;\n",
       "  color: #000000;\n",
       "}\n",
       "#T_54f1b_row8_col9, #T_54f1b_row9_col8 {\n",
       "  background-color: #ebd3c6;\n",
       "  color: #000000;\n",
       "}\n",
       "#T_54f1b_row8_col10, #T_54f1b_row10_col8 {\n",
       "  background-color: #b2ccfb;\n",
       "  color: #000000;\n",
       "}\n",
       "#T_54f1b_row9_col10, #T_54f1b_row10_col9 {\n",
       "  background-color: #97b8ff;\n",
       "  color: #000000;\n",
       "}\n",
       "</style>\n",
       "<table id=\"T_54f1b_\">\n",
       "  <thead>\n",
       "    <tr>\n",
       "      <th class=\"blank level0\" >&nbsp;</th>\n",
       "      <th class=\"col_heading level0 col0\" >longitude</th>\n",
       "      <th class=\"col_heading level0 col1\" >latitude</th>\n",
       "      <th class=\"col_heading level0 col2\" >housing_median_age</th>\n",
       "      <th class=\"col_heading level0 col3\" >total_rooms</th>\n",
       "      <th class=\"col_heading level0 col4\" >total_bedrooms</th>\n",
       "      <th class=\"col_heading level0 col5\" >population</th>\n",
       "      <th class=\"col_heading level0 col6\" >households</th>\n",
       "      <th class=\"col_heading level0 col7\" >median_income</th>\n",
       "      <th class=\"col_heading level0 col8\" >median_house_value</th>\n",
       "      <th class=\"col_heading level0 col9\" >rooms_per_household</th>\n",
       "      <th class=\"col_heading level0 col10\" >bedrooms_per_room</th>\n",
       "      <th class=\"col_heading level0 col11\" >population_per_household</th>\n",
       "    </tr>\n",
       "  </thead>\n",
       "  <tbody>\n",
       "    <tr>\n",
       "      <th id=\"T_54f1b_level0_row0\" class=\"row_heading level0 row0\" >longitude</th>\n",
       "      <td id=\"T_54f1b_row0_col0\" class=\"data row0 col0\" >1.000000</td>\n",
       "      <td id=\"T_54f1b_row0_col1\" class=\"data row0 col1\" >-0.924664</td>\n",
       "      <td id=\"T_54f1b_row0_col2\" class=\"data row0 col2\" >-0.108197</td>\n",
       "      <td id=\"T_54f1b_row0_col3\" class=\"data row0 col3\" >0.044568</td>\n",
       "      <td id=\"T_54f1b_row0_col4\" class=\"data row0 col4\" >0.068082</td>\n",
       "      <td id=\"T_54f1b_row0_col5\" class=\"data row0 col5\" >0.099773</td>\n",
       "      <td id=\"T_54f1b_row0_col6\" class=\"data row0 col6\" >0.055310</td>\n",
       "      <td id=\"T_54f1b_row0_col7\" class=\"data row0 col7\" >-0.015176</td>\n",
       "      <td id=\"T_54f1b_row0_col8\" class=\"data row0 col8\" >-0.045967</td>\n",
       "      <td id=\"T_54f1b_row0_col9\" class=\"data row0 col9\" >-0.027540</td>\n",
       "      <td id=\"T_54f1b_row0_col10\" class=\"data row0 col10\" >0.084836</td>\n",
       "      <td id=\"T_54f1b_row0_col11\" class=\"data row0 col11\" >0.002476</td>\n",
       "    </tr>\n",
       "    <tr>\n",
       "      <th id=\"T_54f1b_level0_row1\" class=\"row_heading level0 row1\" >latitude</th>\n",
       "      <td id=\"T_54f1b_row1_col0\" class=\"data row1 col0\" >-0.924664</td>\n",
       "      <td id=\"T_54f1b_row1_col1\" class=\"data row1 col1\" >1.000000</td>\n",
       "      <td id=\"T_54f1b_row1_col2\" class=\"data row1 col2\" >0.011173</td>\n",
       "      <td id=\"T_54f1b_row1_col3\" class=\"data row1 col3\" >-0.036100</td>\n",
       "      <td id=\"T_54f1b_row1_col4\" class=\"data row1 col4\" >-0.065318</td>\n",
       "      <td id=\"T_54f1b_row1_col5\" class=\"data row1 col5\" >-0.108785</td>\n",
       "      <td id=\"T_54f1b_row1_col6\" class=\"data row1 col6\" >-0.071035</td>\n",
       "      <td id=\"T_54f1b_row1_col7\" class=\"data row1 col7\" >-0.079809</td>\n",
       "      <td id=\"T_54f1b_row1_col8\" class=\"data row1 col8\" >-0.144160</td>\n",
       "      <td id=\"T_54f1b_row1_col9\" class=\"data row1 col9\" >0.106389</td>\n",
       "      <td id=\"T_54f1b_row1_col10\" class=\"data row1 col10\" >-0.104112</td>\n",
       "      <td id=\"T_54f1b_row1_col11\" class=\"data row1 col11\" >0.002366</td>\n",
       "    </tr>\n",
       "    <tr>\n",
       "      <th id=\"T_54f1b_level0_row2\" class=\"row_heading level0 row2\" >housing_median_age</th>\n",
       "      <td id=\"T_54f1b_row2_col0\" class=\"data row2 col0\" >-0.108197</td>\n",
       "      <td id=\"T_54f1b_row2_col1\" class=\"data row2 col1\" >0.011173</td>\n",
       "      <td id=\"T_54f1b_row2_col2\" class=\"data row2 col2\" >1.000000</td>\n",
       "      <td id=\"T_54f1b_row2_col3\" class=\"data row2 col3\" >-0.361262</td>\n",
       "      <td id=\"T_54f1b_row2_col4\" class=\"data row2 col4\" >-0.317063</td>\n",
       "      <td id=\"T_54f1b_row2_col5\" class=\"data row2 col5\" >-0.296244</td>\n",
       "      <td id=\"T_54f1b_row2_col6\" class=\"data row2 col6\" >-0.302916</td>\n",
       "      <td id=\"T_54f1b_row2_col7\" class=\"data row2 col7\" >-0.119034</td>\n",
       "      <td id=\"T_54f1b_row2_col8\" class=\"data row2 col8\" >0.105623</td>\n",
       "      <td id=\"T_54f1b_row2_col9\" class=\"data row2 col9\" >-0.153277</td>\n",
       "      <td id=\"T_54f1b_row2_col10\" class=\"data row2 col10\" >0.125396</td>\n",
       "      <td id=\"T_54f1b_row2_col11\" class=\"data row2 col11\" >0.013191</td>\n",
       "    </tr>\n",
       "    <tr>\n",
       "      <th id=\"T_54f1b_level0_row3\" class=\"row_heading level0 row3\" >total_rooms</th>\n",
       "      <td id=\"T_54f1b_row3_col0\" class=\"data row3 col0\" >0.044568</td>\n",
       "      <td id=\"T_54f1b_row3_col1\" class=\"data row3 col1\" >-0.036100</td>\n",
       "      <td id=\"T_54f1b_row3_col2\" class=\"data row3 col2\" >-0.361262</td>\n",
       "      <td id=\"T_54f1b_row3_col3\" class=\"data row3 col3\" >1.000000</td>\n",
       "      <td id=\"T_54f1b_row3_col4\" class=\"data row3 col4\" >0.920196</td>\n",
       "      <td id=\"T_54f1b_row3_col5\" class=\"data row3 col5\" >0.857126</td>\n",
       "      <td id=\"T_54f1b_row3_col6\" class=\"data row3 col6\" >0.918484</td>\n",
       "      <td id=\"T_54f1b_row3_col7\" class=\"data row3 col7\" >0.198050</td>\n",
       "      <td id=\"T_54f1b_row3_col8\" class=\"data row3 col8\" >0.134153</td>\n",
       "      <td id=\"T_54f1b_row3_col9\" class=\"data row3 col9\" >0.133798</td>\n",
       "      <td id=\"T_54f1b_row3_col10\" class=\"data row3 col10\" >-0.174583</td>\n",
       "      <td id=\"T_54f1b_row3_col11\" class=\"data row3 col11\" >-0.024581</td>\n",
       "    </tr>\n",
       "    <tr>\n",
       "      <th id=\"T_54f1b_level0_row4\" class=\"row_heading level0 row4\" >total_bedrooms</th>\n",
       "      <td id=\"T_54f1b_row4_col0\" class=\"data row4 col0\" >0.068082</td>\n",
       "      <td id=\"T_54f1b_row4_col1\" class=\"data row4 col1\" >-0.065318</td>\n",
       "      <td id=\"T_54f1b_row4_col2\" class=\"data row4 col2\" >-0.317063</td>\n",
       "      <td id=\"T_54f1b_row4_col3\" class=\"data row4 col3\" >0.920196</td>\n",
       "      <td id=\"T_54f1b_row4_col4\" class=\"data row4 col4\" >1.000000</td>\n",
       "      <td id=\"T_54f1b_row4_col5\" class=\"data row4 col5\" >0.866266</td>\n",
       "      <td id=\"T_54f1b_row4_col6\" class=\"data row4 col6\" >0.966507</td>\n",
       "      <td id=\"T_54f1b_row4_col7\" class=\"data row4 col7\" >-0.007295</td>\n",
       "      <td id=\"T_54f1b_row4_col8\" class=\"data row4 col8\" >0.049148</td>\n",
       "      <td id=\"T_54f1b_row4_col9\" class=\"data row4 col9\" >0.002717</td>\n",
       "      <td id=\"T_54f1b_row4_col10\" class=\"data row4 col10\" >0.122205</td>\n",
       "      <td id=\"T_54f1b_row4_col11\" class=\"data row4 col11\" >-0.028019</td>\n",
       "    </tr>\n",
       "    <tr>\n",
       "      <th id=\"T_54f1b_level0_row5\" class=\"row_heading level0 row5\" >population</th>\n",
       "      <td id=\"T_54f1b_row5_col0\" class=\"data row5 col0\" >0.099773</td>\n",
       "      <td id=\"T_54f1b_row5_col1\" class=\"data row5 col1\" >-0.108785</td>\n",
       "      <td id=\"T_54f1b_row5_col2\" class=\"data row5 col2\" >-0.296244</td>\n",
       "      <td id=\"T_54f1b_row5_col3\" class=\"data row5 col3\" >0.857126</td>\n",
       "      <td id=\"T_54f1b_row5_col4\" class=\"data row5 col4\" >0.866266</td>\n",
       "      <td id=\"T_54f1b_row5_col5\" class=\"data row5 col5\" >1.000000</td>\n",
       "      <td id=\"T_54f1b_row5_col6\" class=\"data row5 col6\" >0.907222</td>\n",
       "      <td id=\"T_54f1b_row5_col7\" class=\"data row5 col7\" >0.004834</td>\n",
       "      <td id=\"T_54f1b_row5_col8\" class=\"data row5 col8\" >-0.024650</td>\n",
       "      <td id=\"T_54f1b_row5_col9\" class=\"data row5 col9\" >-0.072213</td>\n",
       "      <td id=\"T_54f1b_row5_col10\" class=\"data row5 col10\" >0.031397</td>\n",
       "      <td id=\"T_54f1b_row5_col11\" class=\"data row5 col11\" >0.069863</td>\n",
       "    </tr>\n",
       "    <tr>\n",
       "      <th id=\"T_54f1b_level0_row6\" class=\"row_heading level0 row6\" >households</th>\n",
       "      <td id=\"T_54f1b_row6_col0\" class=\"data row6 col0\" >0.055310</td>\n",
       "      <td id=\"T_54f1b_row6_col1\" class=\"data row6 col1\" >-0.071035</td>\n",
       "      <td id=\"T_54f1b_row6_col2\" class=\"data row6 col2\" >-0.302916</td>\n",
       "      <td id=\"T_54f1b_row6_col3\" class=\"data row6 col3\" >0.918484</td>\n",
       "      <td id=\"T_54f1b_row6_col4\" class=\"data row6 col4\" >0.966507</td>\n",
       "      <td id=\"T_54f1b_row6_col5\" class=\"data row6 col5\" >0.907222</td>\n",
       "      <td id=\"T_54f1b_row6_col6\" class=\"data row6 col6\" >1.000000</td>\n",
       "      <td id=\"T_54f1b_row6_col7\" class=\"data row6 col7\" >0.013033</td>\n",
       "      <td id=\"T_54f1b_row6_col8\" class=\"data row6 col8\" >0.065843</td>\n",
       "      <td id=\"T_54f1b_row6_col9\" class=\"data row6 col9\" >-0.080598</td>\n",
       "      <td id=\"T_54f1b_row6_col10\" class=\"data row6 col10\" >0.059818</td>\n",
       "      <td id=\"T_54f1b_row6_col11\" class=\"data row6 col11\" >-0.027309</td>\n",
       "    </tr>\n",
       "    <tr>\n",
       "      <th id=\"T_54f1b_level0_row7\" class=\"row_heading level0 row7\" >median_income</th>\n",
       "      <td id=\"T_54f1b_row7_col0\" class=\"data row7 col0\" >-0.015176</td>\n",
       "      <td id=\"T_54f1b_row7_col1\" class=\"data row7 col1\" >-0.079809</td>\n",
       "      <td id=\"T_54f1b_row7_col2\" class=\"data row7 col2\" >-0.119034</td>\n",
       "      <td id=\"T_54f1b_row7_col3\" class=\"data row7 col3\" >0.198050</td>\n",
       "      <td id=\"T_54f1b_row7_col4\" class=\"data row7 col4\" >-0.007295</td>\n",
       "      <td id=\"T_54f1b_row7_col5\" class=\"data row7 col5\" >0.004834</td>\n",
       "      <td id=\"T_54f1b_row7_col6\" class=\"data row7 col6\" >0.013033</td>\n",
       "      <td id=\"T_54f1b_row7_col7\" class=\"data row7 col7\" >1.000000</td>\n",
       "      <td id=\"T_54f1b_row7_col8\" class=\"data row7 col8\" >0.688075</td>\n",
       "      <td id=\"T_54f1b_row7_col9\" class=\"data row7 col9\" >0.326895</td>\n",
       "      <td id=\"T_54f1b_row7_col10\" class=\"data row7 col10\" >-0.573836</td>\n",
       "      <td id=\"T_54f1b_row7_col11\" class=\"data row7 col11\" >0.018766</td>\n",
       "    </tr>\n",
       "    <tr>\n",
       "      <th id=\"T_54f1b_level0_row8\" class=\"row_heading level0 row8\" >median_house_value</th>\n",
       "      <td id=\"T_54f1b_row8_col0\" class=\"data row8 col0\" >-0.045967</td>\n",
       "      <td id=\"T_54f1b_row8_col1\" class=\"data row8 col1\" >-0.144160</td>\n",
       "      <td id=\"T_54f1b_row8_col2\" class=\"data row8 col2\" >0.105623</td>\n",
       "      <td id=\"T_54f1b_row8_col3\" class=\"data row8 col3\" >0.134153</td>\n",
       "      <td id=\"T_54f1b_row8_col4\" class=\"data row8 col4\" >0.049148</td>\n",
       "      <td id=\"T_54f1b_row8_col5\" class=\"data row8 col5\" >-0.024650</td>\n",
       "      <td id=\"T_54f1b_row8_col6\" class=\"data row8 col6\" >0.065843</td>\n",
       "      <td id=\"T_54f1b_row8_col7\" class=\"data row8 col7\" >0.688075</td>\n",
       "      <td id=\"T_54f1b_row8_col8\" class=\"data row8 col8\" >1.000000</td>\n",
       "      <td id=\"T_54f1b_row8_col9\" class=\"data row8 col9\" >0.151948</td>\n",
       "      <td id=\"T_54f1b_row8_col10\" class=\"data row8 col10\" >-0.238759</td>\n",
       "      <td id=\"T_54f1b_row8_col11\" class=\"data row8 col11\" >-0.023737</td>\n",
       "    </tr>\n",
       "    <tr>\n",
       "      <th id=\"T_54f1b_level0_row9\" class=\"row_heading level0 row9\" >rooms_per_household</th>\n",
       "      <td id=\"T_54f1b_row9_col0\" class=\"data row9 col0\" >-0.027540</td>\n",
       "      <td id=\"T_54f1b_row9_col1\" class=\"data row9 col1\" >0.106389</td>\n",
       "      <td id=\"T_54f1b_row9_col2\" class=\"data row9 col2\" >-0.153277</td>\n",
       "      <td id=\"T_54f1b_row9_col3\" class=\"data row9 col3\" >0.133798</td>\n",
       "      <td id=\"T_54f1b_row9_col4\" class=\"data row9 col4\" >0.002717</td>\n",
       "      <td id=\"T_54f1b_row9_col5\" class=\"data row9 col5\" >-0.072213</td>\n",
       "      <td id=\"T_54f1b_row9_col6\" class=\"data row9 col6\" >-0.080598</td>\n",
       "      <td id=\"T_54f1b_row9_col7\" class=\"data row9 col7\" >0.326895</td>\n",
       "      <td id=\"T_54f1b_row9_col8\" class=\"data row9 col8\" >0.151948</td>\n",
       "      <td id=\"T_54f1b_row9_col9\" class=\"data row9 col9\" >1.000000</td>\n",
       "      <td id=\"T_54f1b_row9_col10\" class=\"data row9 col10\" >-0.387465</td>\n",
       "      <td id=\"T_54f1b_row9_col11\" class=\"data row9 col11\" >-0.004852</td>\n",
       "    </tr>\n",
       "    <tr>\n",
       "      <th id=\"T_54f1b_level0_row10\" class=\"row_heading level0 row10\" >bedrooms_per_room</th>\n",
       "      <td id=\"T_54f1b_row10_col0\" class=\"data row10 col0\" >0.084836</td>\n",
       "      <td id=\"T_54f1b_row10_col1\" class=\"data row10 col1\" >-0.104112</td>\n",
       "      <td id=\"T_54f1b_row10_col2\" class=\"data row10 col2\" >0.125396</td>\n",
       "      <td id=\"T_54f1b_row10_col3\" class=\"data row10 col3\" >-0.174583</td>\n",
       "      <td id=\"T_54f1b_row10_col4\" class=\"data row10 col4\" >0.122205</td>\n",
       "      <td id=\"T_54f1b_row10_col5\" class=\"data row10 col5\" >0.031397</td>\n",
       "      <td id=\"T_54f1b_row10_col6\" class=\"data row10 col6\" >0.059818</td>\n",
       "      <td id=\"T_54f1b_row10_col7\" class=\"data row10 col7\" >-0.573836</td>\n",
       "      <td id=\"T_54f1b_row10_col8\" class=\"data row10 col8\" >-0.238759</td>\n",
       "      <td id=\"T_54f1b_row10_col9\" class=\"data row10 col9\" >-0.387465</td>\n",
       "      <td id=\"T_54f1b_row10_col10\" class=\"data row10 col10\" >1.000000</td>\n",
       "      <td id=\"T_54f1b_row10_col11\" class=\"data row10 col11\" >0.003047</td>\n",
       "    </tr>\n",
       "    <tr>\n",
       "      <th id=\"T_54f1b_level0_row11\" class=\"row_heading level0 row11\" >population_per_household</th>\n",
       "      <td id=\"T_54f1b_row11_col0\" class=\"data row11 col0\" >0.002476</td>\n",
       "      <td id=\"T_54f1b_row11_col1\" class=\"data row11 col1\" >0.002366</td>\n",
       "      <td id=\"T_54f1b_row11_col2\" class=\"data row11 col2\" >0.013191</td>\n",
       "      <td id=\"T_54f1b_row11_col3\" class=\"data row11 col3\" >-0.024581</td>\n",
       "      <td id=\"T_54f1b_row11_col4\" class=\"data row11 col4\" >-0.028019</td>\n",
       "      <td id=\"T_54f1b_row11_col5\" class=\"data row11 col5\" >0.069863</td>\n",
       "      <td id=\"T_54f1b_row11_col6\" class=\"data row11 col6\" >-0.027309</td>\n",
       "      <td id=\"T_54f1b_row11_col7\" class=\"data row11 col7\" >0.018766</td>\n",
       "      <td id=\"T_54f1b_row11_col8\" class=\"data row11 col8\" >-0.023737</td>\n",
       "      <td id=\"T_54f1b_row11_col9\" class=\"data row11 col9\" >-0.004852</td>\n",
       "      <td id=\"T_54f1b_row11_col10\" class=\"data row11 col10\" >0.003047</td>\n",
       "      <td id=\"T_54f1b_row11_col11\" class=\"data row11 col11\" >1.000000</td>\n",
       "    </tr>\n",
       "  </tbody>\n",
       "</table>\n"
      ],
      "text/plain": [
       "<pandas.io.formats.style.Styler at 0x15d434950a0>"
      ]
     },
     "execution_count": 16,
     "metadata": {},
     "output_type": "execute_result"
    }
   ],
   "source": [
    "df.corr().style.background_gradient(cmap='coolwarm', axis=None)"
   ]
  },
  {
   "cell_type": "code",
   "execution_count": 17,
   "id": "b27fa33b",
   "metadata": {},
   "outputs": [
    {
     "data": {
      "text/plain": [
       "0.9665072400420386"
      ]
     },
     "execution_count": 17,
     "metadata": {},
     "output_type": "execute_result"
    }
   ],
   "source": [
    "df['total_bedrooms'].corr(df['households'])"
   ]
  },
  {
   "cell_type": "code",
   "execution_count": 18,
   "id": "d8958c59",
   "metadata": {},
   "outputs": [
    {
     "data": {
      "text/plain": [
       "0.9201961721166259"
      ]
     },
     "execution_count": 18,
     "metadata": {},
     "output_type": "execute_result"
    }
   ],
   "source": [
    "df['total_bedrooms'].corr(df['total_rooms'])"
   ]
  },
  {
   "cell_type": "code",
   "execution_count": 19,
   "id": "40544a8c",
   "metadata": {},
   "outputs": [
    {
     "data": {
      "text/plain": [
       "0.9072222660959619"
      ]
     },
     "execution_count": 19,
     "metadata": {},
     "output_type": "execute_result"
    }
   ],
   "source": [
    "df['population'].corr(df['households'])"
   ]
  },
  {
   "cell_type": "code",
   "execution_count": 20,
   "id": "b7516138",
   "metadata": {},
   "outputs": [
    {
     "data": {
      "text/plain": [
       "-0.024580658993988022"
      ]
     },
     "execution_count": 20,
     "metadata": {},
     "output_type": "execute_result"
    }
   ],
   "source": [
    "df['population_per_household'].corr(df['total_rooms'])"
   ]
  },
  {
   "cell_type": "markdown",
   "id": "c36849b2",
   "metadata": {},
   "source": [
    "## Make median_house_value binary\n",
    "* We need to turn the <code>median_house_value</code> variable from numeric into binary.\n",
    "* Let's create a variable <code>above_average</code> which is <code>1</code> if the <code>median_house_value</code> is above its mean value and 0 otherwise."
   ]
  },
  {
   "cell_type": "code",
   "execution_count": 91,
   "id": "3b6462a5",
   "metadata": {},
   "outputs": [
    {
     "data": {
      "text/html": [
       "<div>\n",
       "<style scoped>\n",
       "    .dataframe tbody tr th:only-of-type {\n",
       "        vertical-align: middle;\n",
       "    }\n",
       "\n",
       "    .dataframe tbody tr th {\n",
       "        vertical-align: top;\n",
       "    }\n",
       "\n",
       "    .dataframe thead th {\n",
       "        text-align: right;\n",
       "    }\n",
       "</style>\n",
       "<table border=\"1\" class=\"dataframe\">\n",
       "  <thead>\n",
       "    <tr style=\"text-align: right;\">\n",
       "      <th></th>\n",
       "      <th>longitude</th>\n",
       "      <th>latitude</th>\n",
       "      <th>housing_median_age</th>\n",
       "      <th>total_rooms</th>\n",
       "      <th>total_bedrooms</th>\n",
       "      <th>population</th>\n",
       "      <th>households</th>\n",
       "      <th>median_income</th>\n",
       "      <th>median_house_value</th>\n",
       "      <th>ocean_proximity</th>\n",
       "      <th>rooms_per_household</th>\n",
       "      <th>bedrooms_per_room</th>\n",
       "      <th>population_per_household</th>\n",
       "      <th>above_average</th>\n",
       "    </tr>\n",
       "  </thead>\n",
       "  <tbody>\n",
       "    <tr>\n",
       "      <th>0</th>\n",
       "      <td>-122.23</td>\n",
       "      <td>37.88</td>\n",
       "      <td>41.0</td>\n",
       "      <td>880.0</td>\n",
       "      <td>129.0</td>\n",
       "      <td>322.0</td>\n",
       "      <td>126.0</td>\n",
       "      <td>8.3252</td>\n",
       "      <td>452600.0</td>\n",
       "      <td>NEAR BAY</td>\n",
       "      <td>6.984127</td>\n",
       "      <td>0.146591</td>\n",
       "      <td>2.555556</td>\n",
       "      <td>1.0</td>\n",
       "    </tr>\n",
       "    <tr>\n",
       "      <th>1</th>\n",
       "      <td>-122.22</td>\n",
       "      <td>37.86</td>\n",
       "      <td>21.0</td>\n",
       "      <td>7099.0</td>\n",
       "      <td>1106.0</td>\n",
       "      <td>2401.0</td>\n",
       "      <td>1138.0</td>\n",
       "      <td>8.3014</td>\n",
       "      <td>358500.0</td>\n",
       "      <td>NEAR BAY</td>\n",
       "      <td>6.238137</td>\n",
       "      <td>0.155797</td>\n",
       "      <td>2.109842</td>\n",
       "      <td>1.0</td>\n",
       "    </tr>\n",
       "    <tr>\n",
       "      <th>2</th>\n",
       "      <td>-122.24</td>\n",
       "      <td>37.85</td>\n",
       "      <td>52.0</td>\n",
       "      <td>1467.0</td>\n",
       "      <td>190.0</td>\n",
       "      <td>496.0</td>\n",
       "      <td>177.0</td>\n",
       "      <td>7.2574</td>\n",
       "      <td>352100.0</td>\n",
       "      <td>NEAR BAY</td>\n",
       "      <td>8.288136</td>\n",
       "      <td>0.129516</td>\n",
       "      <td>2.802260</td>\n",
       "      <td>1.0</td>\n",
       "    </tr>\n",
       "    <tr>\n",
       "      <th>3</th>\n",
       "      <td>-122.25</td>\n",
       "      <td>37.85</td>\n",
       "      <td>52.0</td>\n",
       "      <td>1274.0</td>\n",
       "      <td>235.0</td>\n",
       "      <td>558.0</td>\n",
       "      <td>219.0</td>\n",
       "      <td>5.6431</td>\n",
       "      <td>341300.0</td>\n",
       "      <td>NEAR BAY</td>\n",
       "      <td>5.817352</td>\n",
       "      <td>0.184458</td>\n",
       "      <td>2.547945</td>\n",
       "      <td>1.0</td>\n",
       "    </tr>\n",
       "    <tr>\n",
       "      <th>4</th>\n",
       "      <td>-122.25</td>\n",
       "      <td>37.85</td>\n",
       "      <td>52.0</td>\n",
       "      <td>1627.0</td>\n",
       "      <td>280.0</td>\n",
       "      <td>565.0</td>\n",
       "      <td>259.0</td>\n",
       "      <td>3.8462</td>\n",
       "      <td>342200.0</td>\n",
       "      <td>NEAR BAY</td>\n",
       "      <td>6.281853</td>\n",
       "      <td>0.172096</td>\n",
       "      <td>2.181467</td>\n",
       "      <td>1.0</td>\n",
       "    </tr>\n",
       "  </tbody>\n",
       "</table>\n",
       "</div>"
      ],
      "text/plain": [
       "   longitude  latitude  housing_median_age  total_rooms  total_bedrooms  \\\n",
       "0    -122.23     37.88                41.0        880.0           129.0   \n",
       "1    -122.22     37.86                21.0       7099.0          1106.0   \n",
       "2    -122.24     37.85                52.0       1467.0           190.0   \n",
       "3    -122.25     37.85                52.0       1274.0           235.0   \n",
       "4    -122.25     37.85                52.0       1627.0           280.0   \n",
       "\n",
       "   population  households  median_income  median_house_value ocean_proximity  \\\n",
       "0       322.0       126.0         8.3252            452600.0        NEAR BAY   \n",
       "1      2401.0      1138.0         8.3014            358500.0        NEAR BAY   \n",
       "2       496.0       177.0         7.2574            352100.0        NEAR BAY   \n",
       "3       558.0       219.0         5.6431            341300.0        NEAR BAY   \n",
       "4       565.0       259.0         3.8462            342200.0        NEAR BAY   \n",
       "\n",
       "   rooms_per_household  bedrooms_per_room  population_per_household  \\\n",
       "0             6.984127           0.146591                  2.555556   \n",
       "1             6.238137           0.155797                  2.109842   \n",
       "2             8.288136           0.129516                  2.802260   \n",
       "3             5.817352           0.184458                  2.547945   \n",
       "4             6.281853           0.172096                  2.181467   \n",
       "\n",
       "   above_average  \n",
       "0            1.0  \n",
       "1            1.0  \n",
       "2            1.0  \n",
       "3            1.0  \n",
       "4            1.0  "
      ]
     },
     "execution_count": 91,
     "metadata": {},
     "output_type": "execute_result"
    }
   ],
   "source": [
    "df.loc[df['median_house_value'] > df['median_house_value'].mean(), 'above_average'] = 1\n",
    "df['above_average'] = df['above_average'].fillna(0)\n",
    "df.head()"
   ]
  },
  {
   "cell_type": "markdown",
   "id": "a6794a31",
   "metadata": {},
   "source": [
    "## Split the data\n",
    "* Split your data in train/val/test sets, with 60%/20%/20% distribution.\n",
    "* Use Scikit-Learn for that (the <code>train_test_split</code> function) and set the seed to 42.\n",
    "* Make sure that the target value (<code>median_house_value</code>) is not in your dataframe."
   ]
  },
  {
   "cell_type": "code",
   "execution_count": 22,
   "id": "d3bdd62b",
   "metadata": {},
   "outputs": [],
   "source": [
    "df_full_train, df_test = train_test_split(df, test_size=0.2, random_state=42)\n",
    "df_train, df_val = train_test_split(df_full_train, test_size=0.25, random_state=42)\n",
    "\n",
    "df_train = df_train.reset_index(drop=True)\n",
    "df_val = df_val.reset_index(drop=True)\n",
    "df_test = df_test.reset_index(drop=True)\n",
    "\n",
    "y_train = df_train.above_average.values\n",
    "y_val = df_val.above_average.values\n",
    "y_test = df_test.above_average.values"
   ]
  },
  {
   "cell_type": "code",
   "execution_count": 23,
   "id": "bc86b1b6",
   "metadata": {},
   "outputs": [],
   "source": [
    "del df_train['above_average']\n",
    "del df_val['above_average']\n",
    "del df_test['above_average']\n",
    "del df_train['median_house_value']\n",
    "del df_val['median_house_value']\n",
    "del df_test['median_house_value']"
   ]
  },
  {
   "cell_type": "code",
   "execution_count": 24,
   "id": "c82bc49a",
   "metadata": {},
   "outputs": [
    {
     "data": {
      "text/plain": [
       "(12384, 4128, 4128)"
      ]
     },
     "execution_count": 24,
     "metadata": {},
     "output_type": "execute_result"
    }
   ],
   "source": [
    "len(df_train), len(df_val), len(df_test)"
   ]
  },
  {
   "cell_type": "code",
   "execution_count": 25,
   "id": "0c592d01",
   "metadata": {},
   "outputs": [
    {
     "data": {
      "text/plain": [
       "(12384, 4128, 4128)"
      ]
     },
     "execution_count": 25,
     "metadata": {},
     "output_type": "execute_result"
    }
   ],
   "source": [
    "len(y_train), len(y_val), len(y_test)"
   ]
  },
  {
   "cell_type": "markdown",
   "id": "ef0fa655",
   "metadata": {},
   "source": [
    "## Question 3\n",
    "* Calculate the mutual information score with the (binarized) price for the categorical variable that we have. Use the training set only.\n",
    "* What is the value of mutual information?\n",
    "* Round it to 2 decimal digits using <code>round(score, 2)</code>\n",
    "\n",
    "Options:\n",
    "\n",
    "* 0.26\n",
    "* 0\n",
    "* <b>0.10</b>\n",
    "* 0.16"
   ]
  },
  {
   "cell_type": "code",
   "execution_count": 26,
   "id": "b8a7d4e3",
   "metadata": {},
   "outputs": [
    {
     "data": {
      "text/plain": [
       "0.1"
      ]
     },
     "execution_count": 26,
     "metadata": {},
     "output_type": "execute_result"
    }
   ],
   "source": [
    "round(mutual_info_score(y_train, df_train.ocean_proximity), 2)"
   ]
  },
  {
   "cell_type": "markdown",
   "id": "038c9ca8",
   "metadata": {},
   "source": [
    "##  Question 4\n",
    "* Now let's train a logistic regression\n",
    "* Remember that we have one categorical variable <code>ocean_proximity</code> in the data. Include it using one-hot encoding.\n",
    "* Fit the model on the training dataset.\n",
    "    - To make sure the results are reproducible across different versions of Scikit-Learn, fit the model with these parameters:\n",
    "    - <code>model = LogisticRegression(solver=\"liblinear\", C=1.0, max_iter=1000, random_state=42)</code>\n",
    "* Calculate the accuracy on the validation dataset and round it to 2 decimal digits.\n",
    "\n",
    "Options:\n",
    "\n",
    "* 0.60\n",
    "* 0.72\n",
    "* <b>0.84</b>\n",
    "* 0.95"
   ]
  },
  {
   "cell_type": "code",
   "execution_count": 27,
   "id": "20dc7171",
   "metadata": {},
   "outputs": [],
   "source": [
    "dv = DictVectorizer(sparse=False)\n",
    "\n",
    "train_dict = df_train[categorical + numerical].to_dict(orient='records')\n",
    "X_train = dv.fit_transform(train_dict) \n",
    "\n",
    "val_dict = df_val[categorical + numerical].to_dict(orient='records')\n",
    "X_val = dv.transform(val_dict)"
   ]
  },
  {
   "cell_type": "code",
   "execution_count": 28,
   "id": "0d6b31dd",
   "metadata": {},
   "outputs": [
    {
     "data": {
      "text/plain": [
       "[{'ocean_proximity': '<1H OCEAN',\n",
       "  'longitude': -119.67,\n",
       "  'latitude': 34.43,\n",
       "  'housing_median_age': 39.0,\n",
       "  'total_rooms': 1467.0,\n",
       "  'total_bedrooms': 381.0,\n",
       "  'population': 1404.0,\n",
       "  'households': 374.0,\n",
       "  'median_income': 2.3681,\n",
       "  'rooms_per_household': 3.9224598930481283,\n",
       "  'bedrooms_per_room': 0.25971370143149286,\n",
       "  'population_per_household': 3.7540106951871657},\n",
       " {'ocean_proximity': 'NEAR OCEAN',\n",
       "  'longitude': -118.32,\n",
       "  'latitude': 33.74,\n",
       "  'housing_median_age': 24.0,\n",
       "  'total_rooms': 6097.0,\n",
       "  'total_bedrooms': 794.0,\n",
       "  'population': 2248.0,\n",
       "  'households': 806.0,\n",
       "  'median_income': 10.1357,\n",
       "  'rooms_per_household': 7.564516129032258,\n",
       "  'bedrooms_per_room': 0.13022798097424962,\n",
       "  'population_per_household': 2.7890818858560795},\n",
       " {'ocean_proximity': 'INLAND',\n",
       "  'longitude': -121.62,\n",
       "  'latitude': 39.13,\n",
       "  'housing_median_age': 41.0,\n",
       "  'total_rooms': 1317.0,\n",
       "  'total_bedrooms': 309.0,\n",
       "  'population': 856.0,\n",
       "  'households': 337.0,\n",
       "  'median_income': 1.6719,\n",
       "  'rooms_per_household': 3.908011869436202,\n",
       "  'bedrooms_per_room': 0.23462414578587698,\n",
       "  'population_per_household': 2.540059347181009}]"
      ]
     },
     "execution_count": 28,
     "metadata": {},
     "output_type": "execute_result"
    }
   ],
   "source": [
    "train_dict[:3]"
   ]
  },
  {
   "cell_type": "code",
   "execution_count": 29,
   "id": "7a5137b9",
   "metadata": {},
   "outputs": [],
   "source": [
    "model = LogisticRegression(solver=\"liblinear\", C=1.0, max_iter=1000, random_state=42)"
   ]
  },
  {
   "cell_type": "code",
   "execution_count": 30,
   "id": "ca32cb2f",
   "metadata": {},
   "outputs": [
    {
     "data": {
      "text/plain": [
       "LogisticRegression(max_iter=1000, random_state=42, solver='liblinear')"
      ]
     },
     "execution_count": 30,
     "metadata": {},
     "output_type": "execute_result"
    }
   ],
   "source": [
    "model.fit(X_train, y_train)"
   ]
  },
  {
   "cell_type": "code",
   "execution_count": 31,
   "id": "a88bb900",
   "metadata": {},
   "outputs": [],
   "source": [
    "y_pred = model.predict_proba(X_val)[:, 1]"
   ]
  },
  {
   "cell_type": "code",
   "execution_count": 32,
   "id": "a88e521f",
   "metadata": {},
   "outputs": [
    {
     "data": {
      "text/plain": [
       "array([False, False,  True, ...,  True,  True, False])"
      ]
     },
     "execution_count": 32,
     "metadata": {},
     "output_type": "execute_result"
    }
   ],
   "source": [
    "decision = (y_pred >= 0.5)\n",
    "decision"
   ]
  },
  {
   "cell_type": "code",
   "execution_count": 33,
   "id": "b193a5a8",
   "metadata": {},
   "outputs": [
    {
     "data": {
      "text/plain": [
       "0.8359980620155039"
      ]
     },
     "execution_count": 33,
     "metadata": {},
     "output_type": "execute_result"
    }
   ],
   "source": [
    "(y_val == decision).mean()"
   ]
  },
  {
   "cell_type": "markdown",
   "id": "7fd50b7d",
   "metadata": {},
   "source": [
    "## Question 5\n",
    "* Let's find the least useful feature using the <i>feature elimination</i> technique.\n",
    "* Train a model with all these features (using the same parameters as in Q4).\n",
    "* Now exclude each feature from this set and train a model without it. Record the accuracy for each model.\n",
    "* For each feature, calculate the difference between the original accuracy and the accuracy without the feature.\n",
    "* Which of following feature has the smallest difference?\n",
    "    - <b><code>total_rooms</code></b>\n",
    "    - <code>total_bedrooms</code>\n",
    "    - <code>population</code>\n",
    "    - <code>households</code>\n",
    "\n",
    "<quote>note: the difference doesn't have to be positive</quote>"
   ]
  },
  {
   "cell_type": "code",
   "execution_count": 34,
   "id": "ab134bc6",
   "metadata": {},
   "outputs": [],
   "source": [
    "dv = DictVectorizer(sparse=False)\n",
    "\n",
    "dicts_full_train = df_full_train[['ocean_proximity', \n",
    "                       'longitude', \n",
    "                       'latitude', \n",
    "                       'housing_median_age', \n",
    "                       'total_rooms',\n",
    "                       'total_bedrooms', \n",
    "                       'population',\n",
    "                       'households',\n",
    "                       'median_income',\n",
    "                       'rooms_per_household',\n",
    "                       'bedrooms_per_room',\n",
    "                       'population_per_household'\n",
    "                      ]].to_dict(orient='records')\n",
    "X_full_train = dv.fit_transform(dicts_full_train) \n",
    "y_full_train = df_full_train.above_average.values"
   ]
  },
  {
   "cell_type": "code",
   "execution_count": 35,
   "id": "5f91cbd3",
   "metadata": {},
   "outputs": [
    {
     "data": {
      "text/plain": [
       "LogisticRegression(max_iter=1000, random_state=42, solver='liblinear')"
      ]
     },
     "execution_count": 35,
     "metadata": {},
     "output_type": "execute_result"
    }
   ],
   "source": [
    "model = LogisticRegression(solver=\"liblinear\", C=1.0, max_iter=1000, random_state=42)\n",
    "model.fit(X_full_train, y_full_train)"
   ]
  },
  {
   "cell_type": "code",
   "execution_count": 36,
   "id": "0059d277",
   "metadata": {},
   "outputs": [],
   "source": [
    "# test\n",
    "dicts_test = df_test[['ocean_proximity', \n",
    "                       'longitude', \n",
    "                       'latitude', \n",
    "                       'housing_median_age', \n",
    "                       'total_rooms',\n",
    "                       'total_bedrooms', \n",
    "                       'population',\n",
    "                       'households',\n",
    "                       'median_income',\n",
    "                       'rooms_per_household',\n",
    "                       'bedrooms_per_room',\n",
    "                       'population_per_household'\n",
    "                      ]].to_dict(orient='records')\n",
    "X_test = dv.transform(dicts_test)"
   ]
  },
  {
   "cell_type": "code",
   "execution_count": 37,
   "id": "385fbc1a",
   "metadata": {},
   "outputs": [
    {
     "data": {
      "text/plain": [
       "0.8343023255813954"
      ]
     },
     "execution_count": 37,
     "metadata": {},
     "output_type": "execute_result"
    }
   ],
   "source": [
    "y_pred = model.predict_proba(X_test)[:, 1]\n",
    "decision = (y_pred >= 0.5)\n",
    "full_model_score = (decision == y_test).mean()\n",
    "full_model_score"
   ]
  },
  {
   "cell_type": "code",
   "execution_count": 38,
   "id": "47fb989c",
   "metadata": {},
   "outputs": [
    {
     "data": {
      "text/plain": [
       "LogisticRegression(max_iter=1000, random_state=42, solver='liblinear')"
      ]
     },
     "execution_count": 38,
     "metadata": {},
     "output_type": "execute_result"
    }
   ],
   "source": [
    "# without total_rooms\n",
    "dicts_full_train = df_full_train[['ocean_proximity', \n",
    "                       'longitude', \n",
    "                       'latitude', \n",
    "                       'housing_median_age', \n",
    "                       'total_bedrooms', \n",
    "                       'population',\n",
    "                       'households',\n",
    "                       'median_income',\n",
    "                       'rooms_per_household',\n",
    "                       'bedrooms_per_room',\n",
    "                       'population_per_household'\n",
    "                      ]].to_dict(orient='records')\n",
    "X_full_train = dv.fit_transform(dicts_full_train) \n",
    "y_full_train = df_full_train.above_average.values\n",
    "model = LogisticRegression(solver=\"liblinear\", C=1.0, max_iter=1000, random_state=42)\n",
    "model.fit(X_full_train, y_full_train)"
   ]
  },
  {
   "cell_type": "code",
   "execution_count": 39,
   "id": "5411854f",
   "metadata": {},
   "outputs": [
    {
     "name": "stdout",
     "output_type": "stream",
     "text": [
      "without total_rooms diff 0.0007267441860465684\n"
     ]
    }
   ],
   "source": [
    "dicts_test = df_test[['ocean_proximity', \n",
    "                       'longitude', \n",
    "                       'latitude', \n",
    "                       'housing_median_age', \n",
    "                       'total_bedrooms', \n",
    "                       'population',\n",
    "                       'households',\n",
    "                       'median_income',\n",
    "                       'rooms_per_household',\n",
    "                       'bedrooms_per_room',\n",
    "                       'population_per_household'\n",
    "                      ]].to_dict(orient='records')\n",
    "X_test = dv.transform(dicts_test)\n",
    "y_pred = model.predict_proba(X_test)[:, 1]\n",
    "decision = (y_pred >= 0.5)\n",
    "model1_score = (decision == y_test).mean()\n",
    "print('without total_rooms diff', full_model_score - model1_score)"
   ]
  },
  {
   "cell_type": "code",
   "execution_count": 40,
   "id": "038f41fb",
   "metadata": {},
   "outputs": [
    {
     "data": {
      "text/plain": [
       "LogisticRegression(max_iter=1000, random_state=42, solver='liblinear')"
      ]
     },
     "execution_count": 40,
     "metadata": {},
     "output_type": "execute_result"
    }
   ],
   "source": [
    "# without total_bedrooms\n",
    "dicts_full_train = df_full_train[['ocean_proximity', \n",
    "                       'longitude', \n",
    "                       'latitude', \n",
    "                       'housing_median_age', \n",
    "                       'total_rooms',\n",
    "                       'population',\n",
    "                       'households',\n",
    "                       'median_income',\n",
    "                       'rooms_per_household',\n",
    "                       'bedrooms_per_room',\n",
    "                       'population_per_household'\n",
    "                      ]].to_dict(orient='records')\n",
    "X_full_train = dv.fit_transform(dicts_full_train) \n",
    "y_full_train = df_full_train.above_average.values\n",
    "model = LogisticRegression(solver=\"liblinear\", C=1.0, max_iter=1000, random_state=42)\n",
    "model.fit(X_full_train, y_full_train)"
   ]
  },
  {
   "cell_type": "code",
   "execution_count": 41,
   "id": "d6c29fce",
   "metadata": {},
   "outputs": [
    {
     "name": "stdout",
     "output_type": "stream",
     "text": [
      "without total_bedrooms diff 0.001211240310077577\n"
     ]
    }
   ],
   "source": [
    "dicts_test = df_test[['ocean_proximity', \n",
    "                       'longitude', \n",
    "                       'latitude', \n",
    "                       'housing_median_age', \n",
    "                       'total_rooms',\n",
    "                       'population',\n",
    "                       'households',\n",
    "                       'median_income',\n",
    "                       'rooms_per_household',\n",
    "                       'bedrooms_per_room',\n",
    "                       'population_per_household'\n",
    "                      ]].to_dict(orient='records')\n",
    "X_test = dv.transform(dicts_test)\n",
    "y_pred = model.predict_proba(X_test)[:, 1]\n",
    "decision = (y_pred >= 0.5)\n",
    "model2_score = (decision == y_test).mean()\n",
    "print('without total_bedrooms diff', full_model_score - model2_score)"
   ]
  },
  {
   "cell_type": "code",
   "execution_count": 42,
   "id": "daa40329",
   "metadata": {},
   "outputs": [
    {
     "data": {
      "text/plain": [
       "LogisticRegression(max_iter=1000, random_state=42, solver='liblinear')"
      ]
     },
     "execution_count": 42,
     "metadata": {},
     "output_type": "execute_result"
    }
   ],
   "source": [
    "# without population\n",
    "dicts_full_train = df_full_train[['ocean_proximity', \n",
    "                       'longitude', \n",
    "                       'latitude', \n",
    "                       'housing_median_age', \n",
    "                       'total_rooms',\n",
    "                       'total_bedrooms', \n",
    "                       'households',\n",
    "                       'median_income',\n",
    "                       'rooms_per_household',\n",
    "                       'bedrooms_per_room',\n",
    "                       'population_per_household'\n",
    "                      ]].to_dict(orient='records')\n",
    "X_full_train = dv.fit_transform(dicts_full_train) \n",
    "y_full_train = df_full_train.above_average.values\n",
    "model = LogisticRegression(solver=\"liblinear\", C=1.0, max_iter=1000, random_state=42)\n",
    "model.fit(X_full_train, y_full_train)"
   ]
  },
  {
   "cell_type": "code",
   "execution_count": 43,
   "id": "57a5f7cd",
   "metadata": {},
   "outputs": [
    {
     "name": "stdout",
     "output_type": "stream",
     "text": [
      "without population diff 0.08672480620155043\n"
     ]
    }
   ],
   "source": [
    "dicts_test = df_test[['ocean_proximity', \n",
    "                       'longitude', \n",
    "                       'latitude', \n",
    "                       'housing_median_age', \n",
    "                       'total_rooms',\n",
    "                       'households',\n",
    "                       'median_income',\n",
    "                       'rooms_per_household',\n",
    "                       'bedrooms_per_room',\n",
    "                       'population_per_household'\n",
    "                      ]].to_dict(orient='records')\n",
    "X_test = dv.transform(dicts_test)\n",
    "y_pred = model.predict_proba(X_test)[:, 1]\n",
    "decision = (y_pred >= 0.5)\n",
    "model3_score = (decision == y_test).mean()\n",
    "print('without population diff', full_model_score - model3_score)"
   ]
  },
  {
   "cell_type": "code",
   "execution_count": 44,
   "id": "b47595d6",
   "metadata": {},
   "outputs": [
    {
     "data": {
      "text/plain": [
       "LogisticRegression(max_iter=1000, random_state=42, solver='liblinear')"
      ]
     },
     "execution_count": 44,
     "metadata": {},
     "output_type": "execute_result"
    }
   ],
   "source": [
    "# without households\n",
    "dicts_full_train = df_full_train[['ocean_proximity', \n",
    "                       'longitude', \n",
    "                       'latitude', \n",
    "                       'housing_median_age', \n",
    "                       'total_rooms',\n",
    "                       'total_bedrooms', \n",
    "                       'population',\n",
    "                       'median_income',\n",
    "                       'rooms_per_household',\n",
    "                       'bedrooms_per_room',\n",
    "                       'population_per_household'\n",
    "                      ]].to_dict(orient='records')\n",
    "X_full_train = dv.fit_transform(dicts_full_train) \n",
    "y_full_train = df_full_train.above_average.values\n",
    "model = LogisticRegression(solver=\"liblinear\", C=1.0, max_iter=1000, random_state=42)\n",
    "model.fit(X_full_train, y_full_train)"
   ]
  },
  {
   "cell_type": "code",
   "execution_count": 45,
   "id": "f45c73e4",
   "metadata": {},
   "outputs": [
    {
     "name": "stdout",
     "output_type": "stream",
     "text": [
      "without households diff 0.006540697674418672\n"
     ]
    }
   ],
   "source": [
    "dicts_test = df_test[['ocean_proximity', \n",
    "                       'longitude', \n",
    "                       'latitude', \n",
    "                       'housing_median_age', \n",
    "                       'total_rooms',\n",
    "                       'total_bedrooms', \n",
    "                       'population',\n",
    "                       'median_income',\n",
    "                       'rooms_per_household',\n",
    "                       'bedrooms_per_room',\n",
    "                       'population_per_household'\n",
    "                      ]].to_dict(orient='records')\n",
    "X_test = dv.transform(dicts_test)\n",
    "y_pred = model.predict_proba(X_test)[:, 1]\n",
    "decision = (y_pred >= 0.5)\n",
    "model4_score = (decision == y_test).mean()\n",
    "print('without households diff', full_model_score - model4_score)"
   ]
  },
  {
   "cell_type": "markdown",
   "id": "ec8e9d34",
   "metadata": {},
   "source": [
    "##  Question 6\n",
    "* For this question, we'll see how to use a linear regression model from Scikit-Learn\n",
    "* We'll need to use the original column <code>'median_house_value'</code>. Apply the logarithmic transformation to this column.\n",
    "* Fit the Ridge regression model (<code>model = Ridge(alpha=a, solver=\"sag\", random_state=42)</code>) on the training data.\n",
    "* This model has a parameter <code>alpha</code>. Let's try the following values: <code>[0, 0.01, 0.1, 1, 10]</code>\n",
    "* Which of these alphas leads to the best RMSE on the validation set? Round your RMSE scores to 3 decimal digits.\n",
    "If there are multiple options, select the smallest <code>alpha</code>.\n",
    "\n",
    "Options:\n",
    "\n",
    "* 0\n",
    "* 0.01\n",
    "* 0.1\n",
    "* 1\n",
    "* 10"
   ]
  },
  {
   "cell_type": "code",
   "execution_count": 60,
   "id": "3e5026f5",
   "metadata": {},
   "outputs": [
    {
     "data": {
      "text/html": [
       "<div>\n",
       "<style scoped>\n",
       "    .dataframe tbody tr th:only-of-type {\n",
       "        vertical-align: middle;\n",
       "    }\n",
       "\n",
       "    .dataframe tbody tr th {\n",
       "        vertical-align: top;\n",
       "    }\n",
       "\n",
       "    .dataframe thead th {\n",
       "        text-align: right;\n",
       "    }\n",
       "</style>\n",
       "<table border=\"1\" class=\"dataframe\">\n",
       "  <thead>\n",
       "    <tr style=\"text-align: right;\">\n",
       "      <th></th>\n",
       "      <th>longitude</th>\n",
       "      <th>latitude</th>\n",
       "      <th>housing_median_age</th>\n",
       "      <th>total_rooms</th>\n",
       "      <th>total_bedrooms</th>\n",
       "      <th>population</th>\n",
       "      <th>households</th>\n",
       "      <th>median_income</th>\n",
       "      <th>median_house_value</th>\n",
       "      <th>ocean_proximity</th>\n",
       "      <th>rooms_per_household</th>\n",
       "      <th>bedrooms_per_room</th>\n",
       "      <th>population_per_household</th>\n",
       "    </tr>\n",
       "  </thead>\n",
       "  <tbody>\n",
       "    <tr>\n",
       "      <th>0</th>\n",
       "      <td>-122.23</td>\n",
       "      <td>37.88</td>\n",
       "      <td>41.0</td>\n",
       "      <td>880.0</td>\n",
       "      <td>129.0</td>\n",
       "      <td>322.0</td>\n",
       "      <td>126.0</td>\n",
       "      <td>8.3252</td>\n",
       "      <td>452600.0</td>\n",
       "      <td>NEAR BAY</td>\n",
       "      <td>6.984127</td>\n",
       "      <td>0.146591</td>\n",
       "      <td>2.555556</td>\n",
       "    </tr>\n",
       "    <tr>\n",
       "      <th>1</th>\n",
       "      <td>-122.22</td>\n",
       "      <td>37.86</td>\n",
       "      <td>21.0</td>\n",
       "      <td>7099.0</td>\n",
       "      <td>1106.0</td>\n",
       "      <td>2401.0</td>\n",
       "      <td>1138.0</td>\n",
       "      <td>8.3014</td>\n",
       "      <td>358500.0</td>\n",
       "      <td>NEAR BAY</td>\n",
       "      <td>6.238137</td>\n",
       "      <td>0.155797</td>\n",
       "      <td>2.109842</td>\n",
       "    </tr>\n",
       "    <tr>\n",
       "      <th>2</th>\n",
       "      <td>-122.24</td>\n",
       "      <td>37.85</td>\n",
       "      <td>52.0</td>\n",
       "      <td>1467.0</td>\n",
       "      <td>190.0</td>\n",
       "      <td>496.0</td>\n",
       "      <td>177.0</td>\n",
       "      <td>7.2574</td>\n",
       "      <td>352100.0</td>\n",
       "      <td>NEAR BAY</td>\n",
       "      <td>8.288136</td>\n",
       "      <td>0.129516</td>\n",
       "      <td>2.802260</td>\n",
       "    </tr>\n",
       "    <tr>\n",
       "      <th>3</th>\n",
       "      <td>-122.25</td>\n",
       "      <td>37.85</td>\n",
       "      <td>52.0</td>\n",
       "      <td>1274.0</td>\n",
       "      <td>235.0</td>\n",
       "      <td>558.0</td>\n",
       "      <td>219.0</td>\n",
       "      <td>5.6431</td>\n",
       "      <td>341300.0</td>\n",
       "      <td>NEAR BAY</td>\n",
       "      <td>5.817352</td>\n",
       "      <td>0.184458</td>\n",
       "      <td>2.547945</td>\n",
       "    </tr>\n",
       "    <tr>\n",
       "      <th>4</th>\n",
       "      <td>-122.25</td>\n",
       "      <td>37.85</td>\n",
       "      <td>52.0</td>\n",
       "      <td>1627.0</td>\n",
       "      <td>280.0</td>\n",
       "      <td>565.0</td>\n",
       "      <td>259.0</td>\n",
       "      <td>3.8462</td>\n",
       "      <td>342200.0</td>\n",
       "      <td>NEAR BAY</td>\n",
       "      <td>6.281853</td>\n",
       "      <td>0.172096</td>\n",
       "      <td>2.181467</td>\n",
       "    </tr>\n",
       "    <tr>\n",
       "      <th>...</th>\n",
       "      <td>...</td>\n",
       "      <td>...</td>\n",
       "      <td>...</td>\n",
       "      <td>...</td>\n",
       "      <td>...</td>\n",
       "      <td>...</td>\n",
       "      <td>...</td>\n",
       "      <td>...</td>\n",
       "      <td>...</td>\n",
       "      <td>...</td>\n",
       "      <td>...</td>\n",
       "      <td>...</td>\n",
       "      <td>...</td>\n",
       "    </tr>\n",
       "    <tr>\n",
       "      <th>20635</th>\n",
       "      <td>-121.09</td>\n",
       "      <td>39.48</td>\n",
       "      <td>25.0</td>\n",
       "      <td>1665.0</td>\n",
       "      <td>374.0</td>\n",
       "      <td>845.0</td>\n",
       "      <td>330.0</td>\n",
       "      <td>1.5603</td>\n",
       "      <td>78100.0</td>\n",
       "      <td>INLAND</td>\n",
       "      <td>5.045455</td>\n",
       "      <td>0.224625</td>\n",
       "      <td>2.560606</td>\n",
       "    </tr>\n",
       "    <tr>\n",
       "      <th>20636</th>\n",
       "      <td>-121.21</td>\n",
       "      <td>39.49</td>\n",
       "      <td>18.0</td>\n",
       "      <td>697.0</td>\n",
       "      <td>150.0</td>\n",
       "      <td>356.0</td>\n",
       "      <td>114.0</td>\n",
       "      <td>2.5568</td>\n",
       "      <td>77100.0</td>\n",
       "      <td>INLAND</td>\n",
       "      <td>6.114035</td>\n",
       "      <td>0.215208</td>\n",
       "      <td>3.122807</td>\n",
       "    </tr>\n",
       "    <tr>\n",
       "      <th>20637</th>\n",
       "      <td>-121.22</td>\n",
       "      <td>39.43</td>\n",
       "      <td>17.0</td>\n",
       "      <td>2254.0</td>\n",
       "      <td>485.0</td>\n",
       "      <td>1007.0</td>\n",
       "      <td>433.0</td>\n",
       "      <td>1.7000</td>\n",
       "      <td>92300.0</td>\n",
       "      <td>INLAND</td>\n",
       "      <td>5.205543</td>\n",
       "      <td>0.215173</td>\n",
       "      <td>2.325635</td>\n",
       "    </tr>\n",
       "    <tr>\n",
       "      <th>20638</th>\n",
       "      <td>-121.32</td>\n",
       "      <td>39.43</td>\n",
       "      <td>18.0</td>\n",
       "      <td>1860.0</td>\n",
       "      <td>409.0</td>\n",
       "      <td>741.0</td>\n",
       "      <td>349.0</td>\n",
       "      <td>1.8672</td>\n",
       "      <td>84700.0</td>\n",
       "      <td>INLAND</td>\n",
       "      <td>5.329513</td>\n",
       "      <td>0.219892</td>\n",
       "      <td>2.123209</td>\n",
       "    </tr>\n",
       "    <tr>\n",
       "      <th>20639</th>\n",
       "      <td>-121.24</td>\n",
       "      <td>39.37</td>\n",
       "      <td>16.0</td>\n",
       "      <td>2785.0</td>\n",
       "      <td>616.0</td>\n",
       "      <td>1387.0</td>\n",
       "      <td>530.0</td>\n",
       "      <td>2.3886</td>\n",
       "      <td>89400.0</td>\n",
       "      <td>INLAND</td>\n",
       "      <td>5.254717</td>\n",
       "      <td>0.221185</td>\n",
       "      <td>2.616981</td>\n",
       "    </tr>\n",
       "  </tbody>\n",
       "</table>\n",
       "<p>20640 rows × 13 columns</p>\n",
       "</div>"
      ],
      "text/plain": [
       "       longitude  latitude  housing_median_age  total_rooms  total_bedrooms  \\\n",
       "0        -122.23     37.88                41.0        880.0           129.0   \n",
       "1        -122.22     37.86                21.0       7099.0          1106.0   \n",
       "2        -122.24     37.85                52.0       1467.0           190.0   \n",
       "3        -122.25     37.85                52.0       1274.0           235.0   \n",
       "4        -122.25     37.85                52.0       1627.0           280.0   \n",
       "...          ...       ...                 ...          ...             ...   \n",
       "20635    -121.09     39.48                25.0       1665.0           374.0   \n",
       "20636    -121.21     39.49                18.0        697.0           150.0   \n",
       "20637    -121.22     39.43                17.0       2254.0           485.0   \n",
       "20638    -121.32     39.43                18.0       1860.0           409.0   \n",
       "20639    -121.24     39.37                16.0       2785.0           616.0   \n",
       "\n",
       "       population  households  median_income  median_house_value  \\\n",
       "0           322.0       126.0         8.3252            452600.0   \n",
       "1          2401.0      1138.0         8.3014            358500.0   \n",
       "2           496.0       177.0         7.2574            352100.0   \n",
       "3           558.0       219.0         5.6431            341300.0   \n",
       "4           565.0       259.0         3.8462            342200.0   \n",
       "...           ...         ...            ...                 ...   \n",
       "20635       845.0       330.0         1.5603             78100.0   \n",
       "20636       356.0       114.0         2.5568             77100.0   \n",
       "20637      1007.0       433.0         1.7000             92300.0   \n",
       "20638       741.0       349.0         1.8672             84700.0   \n",
       "20639      1387.0       530.0         2.3886             89400.0   \n",
       "\n",
       "      ocean_proximity  rooms_per_household  bedrooms_per_room  \\\n",
       "0            NEAR BAY             6.984127           0.146591   \n",
       "1            NEAR BAY             6.238137           0.155797   \n",
       "2            NEAR BAY             8.288136           0.129516   \n",
       "3            NEAR BAY             5.817352           0.184458   \n",
       "4            NEAR BAY             6.281853           0.172096   \n",
       "...               ...                  ...                ...   \n",
       "20635          INLAND             5.045455           0.224625   \n",
       "20636          INLAND             6.114035           0.215208   \n",
       "20637          INLAND             5.205543           0.215173   \n",
       "20638          INLAND             5.329513           0.219892   \n",
       "20639          INLAND             5.254717           0.221185   \n",
       "\n",
       "       population_per_household  \n",
       "0                      2.555556  \n",
       "1                      2.109842  \n",
       "2                      2.802260  \n",
       "3                      2.547945  \n",
       "4                      2.181467  \n",
       "...                         ...  \n",
       "20635                  2.560606  \n",
       "20636                  3.122807  \n",
       "20637                  2.325635  \n",
       "20638                  2.123209  \n",
       "20639                  2.616981  \n",
       "\n",
       "[20640 rows x 13 columns]"
      ]
     },
     "execution_count": 60,
     "metadata": {},
     "output_type": "execute_result"
    }
   ],
   "source": [
    "df"
   ]
  },
  {
   "cell_type": "code",
   "execution_count": 92,
   "id": "89820196",
   "metadata": {},
   "outputs": [
    {
     "data": {
      "text/html": [
       "<div>\n",
       "<style scoped>\n",
       "    .dataframe tbody tr th:only-of-type {\n",
       "        vertical-align: middle;\n",
       "    }\n",
       "\n",
       "    .dataframe tbody tr th {\n",
       "        vertical-align: top;\n",
       "    }\n",
       "\n",
       "    .dataframe thead th {\n",
       "        text-align: right;\n",
       "    }\n",
       "</style>\n",
       "<table border=\"1\" class=\"dataframe\">\n",
       "  <thead>\n",
       "    <tr style=\"text-align: right;\">\n",
       "      <th></th>\n",
       "      <th>longitude</th>\n",
       "      <th>latitude</th>\n",
       "      <th>housing_median_age</th>\n",
       "      <th>total_rooms</th>\n",
       "      <th>total_bedrooms</th>\n",
       "      <th>population</th>\n",
       "      <th>households</th>\n",
       "      <th>median_income</th>\n",
       "      <th>median_house_value</th>\n",
       "      <th>ocean_proximity</th>\n",
       "      <th>rooms_per_household</th>\n",
       "      <th>bedrooms_per_room</th>\n",
       "      <th>population_per_household</th>\n",
       "      <th>above_average</th>\n",
       "    </tr>\n",
       "  </thead>\n",
       "  <tbody>\n",
       "    <tr>\n",
       "      <th>0</th>\n",
       "      <td>-122.23</td>\n",
       "      <td>37.88</td>\n",
       "      <td>41.0</td>\n",
       "      <td>880.0</td>\n",
       "      <td>129.0</td>\n",
       "      <td>322.0</td>\n",
       "      <td>126.0</td>\n",
       "      <td>8.3252</td>\n",
       "      <td>13.022764</td>\n",
       "      <td>NEAR BAY</td>\n",
       "      <td>6.984127</td>\n",
       "      <td>0.146591</td>\n",
       "      <td>2.555556</td>\n",
       "      <td>1.0</td>\n",
       "    </tr>\n",
       "    <tr>\n",
       "      <th>1</th>\n",
       "      <td>-122.22</td>\n",
       "      <td>37.86</td>\n",
       "      <td>21.0</td>\n",
       "      <td>7099.0</td>\n",
       "      <td>1106.0</td>\n",
       "      <td>2401.0</td>\n",
       "      <td>1138.0</td>\n",
       "      <td>8.3014</td>\n",
       "      <td>12.789684</td>\n",
       "      <td>NEAR BAY</td>\n",
       "      <td>6.238137</td>\n",
       "      <td>0.155797</td>\n",
       "      <td>2.109842</td>\n",
       "      <td>1.0</td>\n",
       "    </tr>\n",
       "    <tr>\n",
       "      <th>2</th>\n",
       "      <td>-122.24</td>\n",
       "      <td>37.85</td>\n",
       "      <td>52.0</td>\n",
       "      <td>1467.0</td>\n",
       "      <td>190.0</td>\n",
       "      <td>496.0</td>\n",
       "      <td>177.0</td>\n",
       "      <td>7.2574</td>\n",
       "      <td>12.771671</td>\n",
       "      <td>NEAR BAY</td>\n",
       "      <td>8.288136</td>\n",
       "      <td>0.129516</td>\n",
       "      <td>2.802260</td>\n",
       "      <td>1.0</td>\n",
       "    </tr>\n",
       "    <tr>\n",
       "      <th>3</th>\n",
       "      <td>-122.25</td>\n",
       "      <td>37.85</td>\n",
       "      <td>52.0</td>\n",
       "      <td>1274.0</td>\n",
       "      <td>235.0</td>\n",
       "      <td>558.0</td>\n",
       "      <td>219.0</td>\n",
       "      <td>5.6431</td>\n",
       "      <td>12.740517</td>\n",
       "      <td>NEAR BAY</td>\n",
       "      <td>5.817352</td>\n",
       "      <td>0.184458</td>\n",
       "      <td>2.547945</td>\n",
       "      <td>1.0</td>\n",
       "    </tr>\n",
       "    <tr>\n",
       "      <th>4</th>\n",
       "      <td>-122.25</td>\n",
       "      <td>37.85</td>\n",
       "      <td>52.0</td>\n",
       "      <td>1627.0</td>\n",
       "      <td>280.0</td>\n",
       "      <td>565.0</td>\n",
       "      <td>259.0</td>\n",
       "      <td>3.8462</td>\n",
       "      <td>12.743151</td>\n",
       "      <td>NEAR BAY</td>\n",
       "      <td>6.281853</td>\n",
       "      <td>0.172096</td>\n",
       "      <td>2.181467</td>\n",
       "      <td>1.0</td>\n",
       "    </tr>\n",
       "    <tr>\n",
       "      <th>...</th>\n",
       "      <td>...</td>\n",
       "      <td>...</td>\n",
       "      <td>...</td>\n",
       "      <td>...</td>\n",
       "      <td>...</td>\n",
       "      <td>...</td>\n",
       "      <td>...</td>\n",
       "      <td>...</td>\n",
       "      <td>...</td>\n",
       "      <td>...</td>\n",
       "      <td>...</td>\n",
       "      <td>...</td>\n",
       "      <td>...</td>\n",
       "      <td>...</td>\n",
       "    </tr>\n",
       "    <tr>\n",
       "      <th>20635</th>\n",
       "      <td>-121.09</td>\n",
       "      <td>39.48</td>\n",
       "      <td>25.0</td>\n",
       "      <td>1665.0</td>\n",
       "      <td>374.0</td>\n",
       "      <td>845.0</td>\n",
       "      <td>330.0</td>\n",
       "      <td>1.5603</td>\n",
       "      <td>11.265745</td>\n",
       "      <td>INLAND</td>\n",
       "      <td>5.045455</td>\n",
       "      <td>0.224625</td>\n",
       "      <td>2.560606</td>\n",
       "      <td>0.0</td>\n",
       "    </tr>\n",
       "    <tr>\n",
       "      <th>20636</th>\n",
       "      <td>-121.21</td>\n",
       "      <td>39.49</td>\n",
       "      <td>18.0</td>\n",
       "      <td>697.0</td>\n",
       "      <td>150.0</td>\n",
       "      <td>356.0</td>\n",
       "      <td>114.0</td>\n",
       "      <td>2.5568</td>\n",
       "      <td>11.252859</td>\n",
       "      <td>INLAND</td>\n",
       "      <td>6.114035</td>\n",
       "      <td>0.215208</td>\n",
       "      <td>3.122807</td>\n",
       "      <td>0.0</td>\n",
       "    </tr>\n",
       "    <tr>\n",
       "      <th>20637</th>\n",
       "      <td>-121.22</td>\n",
       "      <td>39.43</td>\n",
       "      <td>17.0</td>\n",
       "      <td>2254.0</td>\n",
       "      <td>485.0</td>\n",
       "      <td>1007.0</td>\n",
       "      <td>433.0</td>\n",
       "      <td>1.7000</td>\n",
       "      <td>11.432799</td>\n",
       "      <td>INLAND</td>\n",
       "      <td>5.205543</td>\n",
       "      <td>0.215173</td>\n",
       "      <td>2.325635</td>\n",
       "      <td>0.0</td>\n",
       "    </tr>\n",
       "    <tr>\n",
       "      <th>20638</th>\n",
       "      <td>-121.32</td>\n",
       "      <td>39.43</td>\n",
       "      <td>18.0</td>\n",
       "      <td>1860.0</td>\n",
       "      <td>409.0</td>\n",
       "      <td>741.0</td>\n",
       "      <td>349.0</td>\n",
       "      <td>1.8672</td>\n",
       "      <td>11.346871</td>\n",
       "      <td>INLAND</td>\n",
       "      <td>5.329513</td>\n",
       "      <td>0.219892</td>\n",
       "      <td>2.123209</td>\n",
       "      <td>0.0</td>\n",
       "    </tr>\n",
       "    <tr>\n",
       "      <th>20639</th>\n",
       "      <td>-121.24</td>\n",
       "      <td>39.37</td>\n",
       "      <td>16.0</td>\n",
       "      <td>2785.0</td>\n",
       "      <td>616.0</td>\n",
       "      <td>1387.0</td>\n",
       "      <td>530.0</td>\n",
       "      <td>2.3886</td>\n",
       "      <td>11.400876</td>\n",
       "      <td>INLAND</td>\n",
       "      <td>5.254717</td>\n",
       "      <td>0.221185</td>\n",
       "      <td>2.616981</td>\n",
       "      <td>0.0</td>\n",
       "    </tr>\n",
       "  </tbody>\n",
       "</table>\n",
       "<p>20640 rows × 14 columns</p>\n",
       "</div>"
      ],
      "text/plain": [
       "       longitude  latitude  housing_median_age  total_rooms  total_bedrooms  \\\n",
       "0        -122.23     37.88                41.0        880.0           129.0   \n",
       "1        -122.22     37.86                21.0       7099.0          1106.0   \n",
       "2        -122.24     37.85                52.0       1467.0           190.0   \n",
       "3        -122.25     37.85                52.0       1274.0           235.0   \n",
       "4        -122.25     37.85                52.0       1627.0           280.0   \n",
       "...          ...       ...                 ...          ...             ...   \n",
       "20635    -121.09     39.48                25.0       1665.0           374.0   \n",
       "20636    -121.21     39.49                18.0        697.0           150.0   \n",
       "20637    -121.22     39.43                17.0       2254.0           485.0   \n",
       "20638    -121.32     39.43                18.0       1860.0           409.0   \n",
       "20639    -121.24     39.37                16.0       2785.0           616.0   \n",
       "\n",
       "       population  households  median_income  median_house_value  \\\n",
       "0           322.0       126.0         8.3252           13.022764   \n",
       "1          2401.0      1138.0         8.3014           12.789684   \n",
       "2           496.0       177.0         7.2574           12.771671   \n",
       "3           558.0       219.0         5.6431           12.740517   \n",
       "4           565.0       259.0         3.8462           12.743151   \n",
       "...           ...         ...            ...                 ...   \n",
       "20635       845.0       330.0         1.5603           11.265745   \n",
       "20636       356.0       114.0         2.5568           11.252859   \n",
       "20637      1007.0       433.0         1.7000           11.432799   \n",
       "20638       741.0       349.0         1.8672           11.346871   \n",
       "20639      1387.0       530.0         2.3886           11.400876   \n",
       "\n",
       "      ocean_proximity  rooms_per_household  bedrooms_per_room  \\\n",
       "0            NEAR BAY             6.984127           0.146591   \n",
       "1            NEAR BAY             6.238137           0.155797   \n",
       "2            NEAR BAY             8.288136           0.129516   \n",
       "3            NEAR BAY             5.817352           0.184458   \n",
       "4            NEAR BAY             6.281853           0.172096   \n",
       "...               ...                  ...                ...   \n",
       "20635          INLAND             5.045455           0.224625   \n",
       "20636          INLAND             6.114035           0.215208   \n",
       "20637          INLAND             5.205543           0.215173   \n",
       "20638          INLAND             5.329513           0.219892   \n",
       "20639          INLAND             5.254717           0.221185   \n",
       "\n",
       "       population_per_household  above_average  \n",
       "0                      2.555556            1.0  \n",
       "1                      2.109842            1.0  \n",
       "2                      2.802260            1.0  \n",
       "3                      2.547945            1.0  \n",
       "4                      2.181467            1.0  \n",
       "...                         ...            ...  \n",
       "20635                  2.560606            0.0  \n",
       "20636                  3.122807            0.0  \n",
       "20637                  2.325635            0.0  \n",
       "20638                  2.123209            0.0  \n",
       "20639                  2.616981            0.0  \n",
       "\n",
       "[20640 rows x 14 columns]"
      ]
     },
     "execution_count": 92,
     "metadata": {},
     "output_type": "execute_result"
    }
   ],
   "source": [
    "df['median_house_value'] = np.log(df['median_house_value'])\n",
    "df"
   ]
  },
  {
   "cell_type": "code",
   "execution_count": 93,
   "id": "598fcbfe",
   "metadata": {},
   "outputs": [],
   "source": [
    "df_full_train, df_test = train_test_split(df, test_size=0.2, random_state=42)\n",
    "df_train, df_val = train_test_split(df_full_train, test_size=0.25, random_state=42)\n",
    "\n",
    "df_train = df_train.reset_index(drop=True)\n",
    "df_val = df_val.reset_index(drop=True)\n",
    "df_test = df_test.reset_index(drop=True)\n",
    "\n",
    "y_train = df_train.median_house_value.values\n",
    "y_val = df_val.median_house_value.values\n",
    "y_test = df_test.median_house_value.values"
   ]
  },
  {
   "cell_type": "code",
   "execution_count": 94,
   "id": "014ad0b0",
   "metadata": {},
   "outputs": [],
   "source": [
    "del df_train['median_house_value']\n",
    "del df_val['median_house_value']\n",
    "del df_test['median_house_value']"
   ]
  },
  {
   "cell_type": "code",
   "execution_count": 95,
   "id": "670ecbc3",
   "metadata": {},
   "outputs": [],
   "source": [
    "dv = DictVectorizer(sparse=False)\n",
    "\n",
    "train_dict = df_train[categorical + numerical].to_dict(orient='records')\n",
    "X_train = dv.fit_transform(train_dict) \n",
    "\n",
    "val_dict = df_val[categorical + numerical].to_dict(orient='records')\n",
    "X_val = dv.transform(val_dict)"
   ]
  },
  {
   "cell_type": "code",
   "execution_count": 96,
   "id": "f21aa00b",
   "metadata": {},
   "outputs": [],
   "source": [
    "model = Ridge(alpha=0, solver=\"sag\", random_state=42)"
   ]
  },
  {
   "cell_type": "code",
   "execution_count": 97,
   "id": "2ca64585",
   "metadata": {},
   "outputs": [
    {
     "data": {
      "text/plain": [
       "Ridge(alpha=0, random_state=42, solver='sag')"
      ]
     },
     "execution_count": 97,
     "metadata": {},
     "output_type": "execute_result"
    }
   ],
   "source": [
    "model.fit(X_train, y_train)"
   ]
  },
  {
   "cell_type": "code",
   "execution_count": null,
   "id": "47f629c7",
   "metadata": {},
   "outputs": [],
   "source": []
  },
  {
   "cell_type": "code",
   "execution_count": 69,
   "id": "287f499f",
   "metadata": {},
   "outputs": [],
   "source": [
    "def rmse(y, y_pred):\n",
    "    se = (y - y_pred) ** 2\n",
    "    mse = se.mean()\n",
    "    return np.sqrt(mse)"
   ]
  },
  {
   "cell_type": "code",
   "execution_count": 98,
   "id": "48374c3e",
   "metadata": {},
   "outputs": [],
   "source": [
    "y_pred = model.predict(X_val)"
   ]
  },
  {
   "cell_type": "code",
   "execution_count": 99,
   "id": "4392c2bc",
   "metadata": {},
   "outputs": [
    {
     "data": {
      "text/plain": [
       "0.524067160039661"
      ]
     },
     "execution_count": 99,
     "metadata": {},
     "output_type": "execute_result"
    }
   ],
   "source": [
    "mean_squared_error(y_val, y_pred, squared=False)"
   ]
  },
  {
   "cell_type": "code",
   "execution_count": 109,
   "id": "f0dfb770",
   "metadata": {},
   "outputs": [
    {
     "data": {
      "text/plain": [
       "0.524"
      ]
     },
     "execution_count": 109,
     "metadata": {},
     "output_type": "execute_result"
    }
   ],
   "source": [
    "round(rmse(y_val, y_pred), 3)"
   ]
  },
  {
   "cell_type": "code",
   "execution_count": 101,
   "id": "38cc0b42",
   "metadata": {},
   "outputs": [],
   "source": [
    "model = Ridge(alpha=0.01, solver=\"sag\", random_state=42)"
   ]
  },
  {
   "cell_type": "code",
   "execution_count": 102,
   "id": "4fbb7a09",
   "metadata": {},
   "outputs": [
    {
     "data": {
      "text/plain": [
       "Ridge(alpha=0.01, random_state=42, solver='sag')"
      ]
     },
     "execution_count": 102,
     "metadata": {},
     "output_type": "execute_result"
    }
   ],
   "source": [
    "model.fit(X_train, y_train)"
   ]
  },
  {
   "cell_type": "code",
   "execution_count": 103,
   "id": "14b1e046",
   "metadata": {},
   "outputs": [],
   "source": [
    "y_pred = model.predict(X_val)"
   ]
  },
  {
   "cell_type": "code",
   "execution_count": 110,
   "id": "6dcf1f39",
   "metadata": {},
   "outputs": [
    {
     "data": {
      "text/plain": [
       "0.524"
      ]
     },
     "execution_count": 110,
     "metadata": {},
     "output_type": "execute_result"
    }
   ],
   "source": [
    "round(rmse(y_val, y_pred),3)"
   ]
  },
  {
   "cell_type": "code",
   "execution_count": 111,
   "id": "ebc0fa0d",
   "metadata": {},
   "outputs": [
    {
     "data": {
      "text/plain": [
       "0.524"
      ]
     },
     "execution_count": 111,
     "metadata": {},
     "output_type": "execute_result"
    }
   ],
   "source": [
    "model = Ridge(alpha=0.1, solver=\"sag\", random_state=42)\n",
    "model.fit(X_train, y_train)\n",
    "y_pred = model.predict(X_val)\n",
    "round(rmse(y_val, y_pred), 3)"
   ]
  },
  {
   "cell_type": "code",
   "execution_count": 112,
   "id": "993e4c3c",
   "metadata": {},
   "outputs": [
    {
     "data": {
      "text/plain": [
       "0.524"
      ]
     },
     "execution_count": 112,
     "metadata": {},
     "output_type": "execute_result"
    }
   ],
   "source": [
    "model = Ridge(alpha=1, solver=\"sag\", random_state=42)\n",
    "model.fit(X_train, y_train)\n",
    "y_pred = model.predict(X_val)\n",
    "round(rmse(y_val, y_pred), 3)"
   ]
  },
  {
   "cell_type": "code",
   "execution_count": 113,
   "id": "d3f5e28e",
   "metadata": {},
   "outputs": [
    {
     "data": {
      "text/plain": [
       "0.524"
      ]
     },
     "execution_count": 113,
     "metadata": {},
     "output_type": "execute_result"
    }
   ],
   "source": [
    "model = Ridge(alpha=10, solver=\"sag\", random_state=42)\n",
    "model.fit(X_train, y_train)\n",
    "y_pred = model.predict(X_val)\n",
    "round(rmse(y_val, y_pred), 3)"
   ]
  },
  {
   "cell_type": "code",
   "execution_count": 108,
   "id": "d045ebe7",
   "metadata": {},
   "outputs": [
    {
     "data": {
      "text/plain": [
       "0.5240671781715663"
      ]
     },
     "execution_count": 108,
     "metadata": {},
     "output_type": "execute_result"
    }
   ],
   "source": [
    "mean_squared_error(y_val, y_pred, squared=False)"
   ]
  },
  {
   "cell_type": "code",
   "execution_count": null,
   "id": "9c5d0959",
   "metadata": {},
   "outputs": [],
   "source": []
  }
 ],
 "metadata": {
  "kernelspec": {
   "display_name": "Python 3 (ipykernel)",
   "language": "python",
   "name": "python3"
  },
  "language_info": {
   "codemirror_mode": {
    "name": "ipython",
    "version": 3
   },
   "file_extension": ".py",
   "mimetype": "text/x-python",
   "name": "python",
   "nbconvert_exporter": "python",
   "pygments_lexer": "ipython3",
   "version": "3.9.7"
  }
 },
 "nbformat": 4,
 "nbformat_minor": 5
}
